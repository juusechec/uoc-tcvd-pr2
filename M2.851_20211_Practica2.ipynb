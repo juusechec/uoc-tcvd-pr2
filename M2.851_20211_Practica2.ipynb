{
  "cells": [
    {
      "cell_type": "markdown",
      "metadata": {
        "id": "LXgM05O7uYRK"
      },
      "source": [
        "<div style=\"width: 100%; clear: both;\">\n",
        "<div style=\"float: left; width: 50%;\">\n",
        "<img src=\"http://www.uoc.edu/portal/_resources/common/imatges/marca_UOC/UOC_Masterbrand.jpg\" align=\"left\">\n",
        "</div>\n",
        "<div style=\"float: right; width: 50%;\">\n",
        "<p style=\"margin: 0; padding-top: 22px; text-align:right;\">M2.851. Tipología y ciclo de vida de los datos · PRAC2</p>\n",
        "<p style=\"margin: 0; text-align:right;\">2021-1 · Máster universitario en Ciencia de datos (Data science)</p>\n",
        "<p style=\"margin: 0; text-align:right; padding-button: 100px;\">Estudios de Informática, Multimedia y Telecomunicación</p>\n",
        "</div>\n",
        "<div style=\"width:100%;\">&nbsp;</div>\n",
        "\n",
        "# PRAC 2: Introducción a la limpieza y análisis de los datos\n",
        "\n",
        "Los objetivos concretos de esta práctica son:\n",
        "\n",
        "•\tAprender a aplicar los conocimientos adquiridos y su capacidad de resolución de problemas en entornos nuevos o poco conocidos dentro de contextos más amplios o multidisciplinares.\n",
        " \n",
        "• Saber identificar los datos relevantes y los tratamientos necesarios (integración, limpieza y validación) para llevar a cabo un proyecto analítico.\n",
        "\n",
        "•\tAprender a analizar los datos adecuadamente para abordar la información contenida en los datos.\n",
        "\n",
        "•\tIdentificar la mejor representación de los resultados para aportar conclusiones sobre el problema planteado en el proceso analítico.\n",
        "\n",
        "•\tActuar con los principios éticos y legales relacionados con la manipulación de datos en función del ámbito de aplicación.\n",
        "\n",
        "•\tDesarrollar las habilidades de aprendizaje que les permitan continuar estudiando de un modo que tendrá que ser en gran medida autodirigido o autónomo.\n",
        "\n",
        "•\tDesarrollar la capacidad de búsqueda, gestión y uso de información y recursos en el ámbito de la ciencia de datos.\n",
        "\n",
        "# Integrantes de grupo:\n",
        "* Jorge Useche\n",
        "* Christian Zamora\n",
        "\n",
        "# Contenido.\n",
        "\n",
        "1. Descripción del dataset. ¿Por qué es importante y qué pregunta/problema pretende responder?<br><br>\n",
        "\n",
        "2. Integración y selección de los datos de interés a analizar.<br>\n",
        "\n",
        "    2.1 Análisis estadístico básico<br>\n",
        "    \n",
        "    2.2 Análisis exploratorio de los datos<br><br>\n",
        "    \n",
        "3. Limpieza de los datos.<br>\n",
        "    \n",
        "    3.1. ¿Los datos contienen ceros o elementos vacíos? ¿Cómo gestionarías cada uno de estos casos?<br>\n",
        "    \n",
        "    3.2. Identificación y tratamiento de valores extremos.<br><br>\n",
        "    \n",
        "4. Análisis de los datos.<br/>\n",
        "    \n",
        "    4.1. Selección de los grupos de datos que se quieren analizar/comparar (planificación de los análisis a aplicar).<br>\n",
        "    \n",
        "    4.2. Comprobación de la normalidad y homogeneidad de la varianza.<br>\n",
        "    \n",
        "    4.3. Aplicación de pruebas estadísticas para comparar los grupos de datos. En función de los datos y el objetivo del estudio, aplicar pruebas de contraste de hipótesis, correlaciones, regresiones, etc. Aplicar al menos tres métodos de análisis diferentes.<br><br>\n",
        "    \n",
        "5. Representación de los resultados a partir de tablas y gráficas.<br><br>\n",
        "    \n",
        "6. Resolución del problema. A partir de los resultados obtenidos, ¿cuáles son las conclusiones? ¿Los resultados permiten responder al problema?<br><br>\n",
        "    \n",
        "7.\tCódigo: Hay que adjuntar el código, preferiblemente en R, con el que se ha realizado la limpieza, análisis y representación de los datos. Si lo preferís, también podéis trabajar en Python.<br><br>\n",
        "\n",
        "Para ello vamos a necesitar las siguientes librerías:\n",
        "\n",
        "# Codificación"
      ]
    },
    {
      "cell_type": "code",
      "execution_count": 1,
      "metadata": {
        "id": "vxIAf0ZXuYRU"
      },
      "outputs": [],
      "source": [
        "from sklearn import datasets\n",
        "from sklearn import preprocessing\n",
        "from sklearn.decomposition import PCA\n",
        "from sklearn.model_selection import train_test_split\n",
        "from sklearn.ensemble import RandomForestClassifier\n",
        "from sklearn.metrics import accuracy_score, confusion_matrix, classification_report\n",
        "import numpy as np\n",
        "import seaborn as sns\n",
        "import matplotlib.pyplot as plt\n",
        "%matplotlib inline\n",
        "import pandas as pd\n",
        "pd.set_option('display.max_columns', None)"
      ]
    },
    {
      "cell_type": "markdown",
      "metadata": {
        "id": "Ipt2Q9eZuYRV"
      },
      "source": [
        "# Carga del conjunto de datos\n",
        "\n",
        "Primero, es necesario obtener el conjunto de datos. En este caso se realizará un analisis de la informacion concerniente a los vinos en la siguiente dirección enlace:\n",
        "\n",
        "https://www.kaggle.com/uciml/red-wine-quality-cortez-et-al-2009\n",
        "\n",
        "La fuente original citada por el author esta en la dirección siguiente:\n",
        "\n",
        "https://archive.ics.uci.edu/ml/datasets/wine+quality\n",
        "\n",
        "La información puede descargarse desde Internet, la misma se encuentra en formato comprimido .zip la cual se requiere descomprimir para su uso y corresponde solo a la categoria de vinos rojos.\n",
        "\n",
        "Dentro de la fuente original se encontrarán los archivos de datos para vinos rojos y blancos, adicional a esto la metadata de las columnas."
      ]
    },
    {
      "cell_type": "code",
      "execution_count": 2,
      "metadata": {
        "id": "3QRZPBlSNjAp",
        "outputId": "44843167-cb45-40d2-fcfa-9d43dc293b5b",
        "colab": {
          "base_uri": "https://localhost:8080/",
          "height": 399
        }
      },
      "outputs": [
        {
          "output_type": "error",
          "ename": "FileNotFoundError",
          "evalue": "ignored",
          "traceback": [
            "\u001b[0;31m---------------------------------------------------------------------------\u001b[0m",
            "\u001b[0;31mFileNotFoundError\u001b[0m                         Traceback (most recent call last)",
            "\u001b[0;32m<ipython-input-2-30b11397bf9e>\u001b[0m in \u001b[0;36m<module>\u001b[0;34m()\u001b[0m\n\u001b[1;32m      1\u001b[0m \u001b[0;31m# Lectura del dataset, cargamos en la variable wine\u001b[0m\u001b[0;34m\u001b[0m\u001b[0;34m\u001b[0m\u001b[0;34m\u001b[0m\u001b[0m\n\u001b[0;32m----> 2\u001b[0;31m \u001b[0mwine\u001b[0m \u001b[0;34m=\u001b[0m \u001b[0mpd\u001b[0m\u001b[0;34m.\u001b[0m\u001b[0mread_csv\u001b[0m\u001b[0;34m(\u001b[0m\u001b[0;34m'winequality-red.csv'\u001b[0m\u001b[0;34m)\u001b[0m\u001b[0;34m\u001b[0m\u001b[0;34m\u001b[0m\u001b[0m\n\u001b[0m",
            "\u001b[0;32m/usr/local/lib/python3.7/dist-packages/pandas/io/parsers.py\u001b[0m in \u001b[0;36mread_csv\u001b[0;34m(filepath_or_buffer, sep, delimiter, header, names, index_col, usecols, squeeze, prefix, mangle_dupe_cols, dtype, engine, converters, true_values, false_values, skipinitialspace, skiprows, skipfooter, nrows, na_values, keep_default_na, na_filter, verbose, skip_blank_lines, parse_dates, infer_datetime_format, keep_date_col, date_parser, dayfirst, cache_dates, iterator, chunksize, compression, thousands, decimal, lineterminator, quotechar, quoting, doublequote, escapechar, comment, encoding, dialect, error_bad_lines, warn_bad_lines, delim_whitespace, low_memory, memory_map, float_precision)\u001b[0m\n\u001b[1;32m    686\u001b[0m     )\n\u001b[1;32m    687\u001b[0m \u001b[0;34m\u001b[0m\u001b[0m\n\u001b[0;32m--> 688\u001b[0;31m     \u001b[0;32mreturn\u001b[0m \u001b[0m_read\u001b[0m\u001b[0;34m(\u001b[0m\u001b[0mfilepath_or_buffer\u001b[0m\u001b[0;34m,\u001b[0m \u001b[0mkwds\u001b[0m\u001b[0;34m)\u001b[0m\u001b[0;34m\u001b[0m\u001b[0;34m\u001b[0m\u001b[0m\n\u001b[0m\u001b[1;32m    689\u001b[0m \u001b[0;34m\u001b[0m\u001b[0m\n\u001b[1;32m    690\u001b[0m \u001b[0;34m\u001b[0m\u001b[0m\n",
            "\u001b[0;32m/usr/local/lib/python3.7/dist-packages/pandas/io/parsers.py\u001b[0m in \u001b[0;36m_read\u001b[0;34m(filepath_or_buffer, kwds)\u001b[0m\n\u001b[1;32m    452\u001b[0m \u001b[0;34m\u001b[0m\u001b[0m\n\u001b[1;32m    453\u001b[0m     \u001b[0;31m# Create the parser.\u001b[0m\u001b[0;34m\u001b[0m\u001b[0;34m\u001b[0m\u001b[0;34m\u001b[0m\u001b[0m\n\u001b[0;32m--> 454\u001b[0;31m     \u001b[0mparser\u001b[0m \u001b[0;34m=\u001b[0m \u001b[0mTextFileReader\u001b[0m\u001b[0;34m(\u001b[0m\u001b[0mfp_or_buf\u001b[0m\u001b[0;34m,\u001b[0m \u001b[0;34m**\u001b[0m\u001b[0mkwds\u001b[0m\u001b[0;34m)\u001b[0m\u001b[0;34m\u001b[0m\u001b[0;34m\u001b[0m\u001b[0m\n\u001b[0m\u001b[1;32m    455\u001b[0m \u001b[0;34m\u001b[0m\u001b[0m\n\u001b[1;32m    456\u001b[0m     \u001b[0;32mif\u001b[0m \u001b[0mchunksize\u001b[0m \u001b[0;32mor\u001b[0m \u001b[0miterator\u001b[0m\u001b[0;34m:\u001b[0m\u001b[0;34m\u001b[0m\u001b[0;34m\u001b[0m\u001b[0m\n",
            "\u001b[0;32m/usr/local/lib/python3.7/dist-packages/pandas/io/parsers.py\u001b[0m in \u001b[0;36m__init__\u001b[0;34m(self, f, engine, **kwds)\u001b[0m\n\u001b[1;32m    946\u001b[0m             \u001b[0mself\u001b[0m\u001b[0;34m.\u001b[0m\u001b[0moptions\u001b[0m\u001b[0;34m[\u001b[0m\u001b[0;34m\"has_index_names\"\u001b[0m\u001b[0;34m]\u001b[0m \u001b[0;34m=\u001b[0m \u001b[0mkwds\u001b[0m\u001b[0;34m[\u001b[0m\u001b[0;34m\"has_index_names\"\u001b[0m\u001b[0;34m]\u001b[0m\u001b[0;34m\u001b[0m\u001b[0;34m\u001b[0m\u001b[0m\n\u001b[1;32m    947\u001b[0m \u001b[0;34m\u001b[0m\u001b[0m\n\u001b[0;32m--> 948\u001b[0;31m         \u001b[0mself\u001b[0m\u001b[0;34m.\u001b[0m\u001b[0m_make_engine\u001b[0m\u001b[0;34m(\u001b[0m\u001b[0mself\u001b[0m\u001b[0;34m.\u001b[0m\u001b[0mengine\u001b[0m\u001b[0;34m)\u001b[0m\u001b[0;34m\u001b[0m\u001b[0;34m\u001b[0m\u001b[0m\n\u001b[0m\u001b[1;32m    949\u001b[0m \u001b[0;34m\u001b[0m\u001b[0m\n\u001b[1;32m    950\u001b[0m     \u001b[0;32mdef\u001b[0m \u001b[0mclose\u001b[0m\u001b[0;34m(\u001b[0m\u001b[0mself\u001b[0m\u001b[0;34m)\u001b[0m\u001b[0;34m:\u001b[0m\u001b[0;34m\u001b[0m\u001b[0;34m\u001b[0m\u001b[0m\n",
            "\u001b[0;32m/usr/local/lib/python3.7/dist-packages/pandas/io/parsers.py\u001b[0m in \u001b[0;36m_make_engine\u001b[0;34m(self, engine)\u001b[0m\n\u001b[1;32m   1178\u001b[0m     \u001b[0;32mdef\u001b[0m \u001b[0m_make_engine\u001b[0m\u001b[0;34m(\u001b[0m\u001b[0mself\u001b[0m\u001b[0;34m,\u001b[0m \u001b[0mengine\u001b[0m\u001b[0;34m=\u001b[0m\u001b[0;34m\"c\"\u001b[0m\u001b[0;34m)\u001b[0m\u001b[0;34m:\u001b[0m\u001b[0;34m\u001b[0m\u001b[0;34m\u001b[0m\u001b[0m\n\u001b[1;32m   1179\u001b[0m         \u001b[0;32mif\u001b[0m \u001b[0mengine\u001b[0m \u001b[0;34m==\u001b[0m \u001b[0;34m\"c\"\u001b[0m\u001b[0;34m:\u001b[0m\u001b[0;34m\u001b[0m\u001b[0;34m\u001b[0m\u001b[0m\n\u001b[0;32m-> 1180\u001b[0;31m             \u001b[0mself\u001b[0m\u001b[0;34m.\u001b[0m\u001b[0m_engine\u001b[0m \u001b[0;34m=\u001b[0m \u001b[0mCParserWrapper\u001b[0m\u001b[0;34m(\u001b[0m\u001b[0mself\u001b[0m\u001b[0;34m.\u001b[0m\u001b[0mf\u001b[0m\u001b[0;34m,\u001b[0m \u001b[0;34m**\u001b[0m\u001b[0mself\u001b[0m\u001b[0;34m.\u001b[0m\u001b[0moptions\u001b[0m\u001b[0;34m)\u001b[0m\u001b[0;34m\u001b[0m\u001b[0;34m\u001b[0m\u001b[0m\n\u001b[0m\u001b[1;32m   1181\u001b[0m         \u001b[0;32melse\u001b[0m\u001b[0;34m:\u001b[0m\u001b[0;34m\u001b[0m\u001b[0;34m\u001b[0m\u001b[0m\n\u001b[1;32m   1182\u001b[0m             \u001b[0;32mif\u001b[0m \u001b[0mengine\u001b[0m \u001b[0;34m==\u001b[0m \u001b[0;34m\"python\"\u001b[0m\u001b[0;34m:\u001b[0m\u001b[0;34m\u001b[0m\u001b[0;34m\u001b[0m\u001b[0m\n",
            "\u001b[0;32m/usr/local/lib/python3.7/dist-packages/pandas/io/parsers.py\u001b[0m in \u001b[0;36m__init__\u001b[0;34m(self, src, **kwds)\u001b[0m\n\u001b[1;32m   2008\u001b[0m         \u001b[0mkwds\u001b[0m\u001b[0;34m[\u001b[0m\u001b[0;34m\"usecols\"\u001b[0m\u001b[0;34m]\u001b[0m \u001b[0;34m=\u001b[0m \u001b[0mself\u001b[0m\u001b[0;34m.\u001b[0m\u001b[0musecols\u001b[0m\u001b[0;34m\u001b[0m\u001b[0;34m\u001b[0m\u001b[0m\n\u001b[1;32m   2009\u001b[0m \u001b[0;34m\u001b[0m\u001b[0m\n\u001b[0;32m-> 2010\u001b[0;31m         \u001b[0mself\u001b[0m\u001b[0;34m.\u001b[0m\u001b[0m_reader\u001b[0m \u001b[0;34m=\u001b[0m \u001b[0mparsers\u001b[0m\u001b[0;34m.\u001b[0m\u001b[0mTextReader\u001b[0m\u001b[0;34m(\u001b[0m\u001b[0msrc\u001b[0m\u001b[0;34m,\u001b[0m \u001b[0;34m**\u001b[0m\u001b[0mkwds\u001b[0m\u001b[0;34m)\u001b[0m\u001b[0;34m\u001b[0m\u001b[0;34m\u001b[0m\u001b[0m\n\u001b[0m\u001b[1;32m   2011\u001b[0m         \u001b[0mself\u001b[0m\u001b[0;34m.\u001b[0m\u001b[0munnamed_cols\u001b[0m \u001b[0;34m=\u001b[0m \u001b[0mself\u001b[0m\u001b[0;34m.\u001b[0m\u001b[0m_reader\u001b[0m\u001b[0;34m.\u001b[0m\u001b[0munnamed_cols\u001b[0m\u001b[0;34m\u001b[0m\u001b[0;34m\u001b[0m\u001b[0m\n\u001b[1;32m   2012\u001b[0m \u001b[0;34m\u001b[0m\u001b[0m\n",
            "\u001b[0;32mpandas/_libs/parsers.pyx\u001b[0m in \u001b[0;36mpandas._libs.parsers.TextReader.__cinit__\u001b[0;34m()\u001b[0m\n",
            "\u001b[0;32mpandas/_libs/parsers.pyx\u001b[0m in \u001b[0;36mpandas._libs.parsers.TextReader._setup_parser_source\u001b[0;34m()\u001b[0m\n",
            "\u001b[0;31mFileNotFoundError\u001b[0m: [Errno 2] No such file or directory: 'winequality-red.csv'"
          ]
        }
      ],
      "source": [
        "# Lectura del dataset, cargamos en la variable wine\n",
        "wine = pd.read_csv('winequality-red.csv')"
      ]
    },
    {
      "cell_type": "code",
      "execution_count": null,
      "metadata": {
        "id": "1ljhWq8lNjAq"
      },
      "outputs": [],
      "source": [
        "# Realizamos un despliege corto de la data para verificar su contenido.\n",
        "wine.head(5)"
      ]
    },
    {
      "cell_type": "code",
      "execution_count": null,
      "metadata": {
        "id": "qGOdxLK5NjAt"
      },
      "outputs": [],
      "source": [
        "# Presentación de la información del conjunto de datos\n",
        "wine.info()"
      ]
    },
    {
      "cell_type": "markdown",
      "metadata": {
        "id": "0s6fQ5abNjAu"
      },
      "source": [
        "Observamos que existe un total de 1599 registros, las variables independientes son tipo float (númerica decimal), y la variable dependiente es entero."
      ]
    },
    {
      "cell_type": "markdown",
      "metadata": {
        "id": "LzwP35EpNjAv"
      },
      "source": [
        "# 1. Descripción del dataset. ¿Por qué es importante y qué pregunta/problema pretende responder?\n",
        "\n",
        "El análisis estadístico de las propiedades fisicoquímicas del vino son importantes ya que puede determinarse que factor, variable o correlación inciden para que un vino sea considerado “bueno”.\t\n",
        "\t\n",
        "Es posible utilizar un modelo de regresión logística, estableciendo un límite arbitrario para la variable dependiente (calidad del vino) en, por ejemplo, 7 o más, clasificándose como 'bueno / 1' y el resto como 'no bueno / 0 '.\n",
        "\n",
        "Esto permitirá aplicar un ajuste de hiperparámetros como los algoritmos de árbol de decisión como la curva ROC y el valor AUC.\n",
        "\t\n",
        "El conjunto de datos contiene información de las variantes de vino rojo y blanco. Estas se encuentran definidas en las variables fisicoquímicas (variable independiente - entrada) y sensoriales (variable dependiente - salida).\n",
        "\n",
        "A continuación, se describen las variables de entrada y salida:\n",
        "\n",
        "* 1 - acidez fija\n",
        "* 2 - acidez volátil\n",
        "* 3 - ácido cítrico\n",
        "* 4 - azúcar residual\n",
        "* 5 - cloruros\n",
        "* 6 - dióxido de azufre libre\n",
        "* 7 - dióxido de azufre total\n",
        "* 8 - densidad\n",
        "* 9 - pH\n",
        "* 10 - sulfatos\n",
        "* 11 - alcohol\n",
        "\n",
        "La variable de salida (basada en datos sensoriales):\n",
        "\n",
        "* 12 - calidad (puntuación entre 0 y 10)"
      ]
    },
    {
      "cell_type": "markdown",
      "metadata": {
        "id": "fR7piwChNjAv"
      },
      "source": [
        "# 2.\tIntegración y selección de los datos de interés a analizar."
      ]
    },
    {
      "cell_type": "markdown",
      "metadata": {
        "id": "PeETUpjQNjAw"
      },
      "source": [
        "Los atributos son variables numéricas que corresponden con características fisicoquímicas del vino, por lo cual es importante conservar todos estos atributos durante la realización en la etapa inicial de selección de datos. Durante esta primera parte del proceso es posible categorizar la variable dependiente de calidad del vino disminuyendo el número de categorías a 2, definiendo los valores mayores a 7 como vinos “buenos”.\n"
      ]
    },
    {
      "cell_type": "markdown",
      "metadata": {
        "id": "nwTlPkmtNjAx"
      },
      "source": [
        "# 3. Limpieza de datos\n",
        "\n",
        "Se implementa la función \"limpieza\" en donde se eliminan valores nulos, además en esta sección se extraen las variables dependientes de la data. Debido a que el dataset no contiene datos nulos o vacíos, la función \"limpieza\" no realiza su cometido."
      ]
    },
    {
      "cell_type": "markdown",
      "metadata": {
        "id": "MBqx99VZNjAx"
      },
      "source": [
        "### 3.1. ¿Los datos contienen ceros o elementos vacíos? ¿Cómo gestionarías cada uno de estos casos?"
      ]
    },
    {
      "cell_type": "code",
      "execution_count": null,
      "metadata": {
        "id": "Id78kajsNjAy"
      },
      "outputs": [],
      "source": [
        "def limpieza(df):\n",
        "    df.dropna(inplace=True)\n",
        "    df = df.loc[:, [i for i in df.columns]]\n",
        "    indices_to_keep = ~df.isin([np.nan, np.inf, -np.inf]).any(1)\n",
        "    return df[indices_to_keep].astype(np.float64)\n",
        "\n",
        "wine_clean = limpieza(pd.DataFrame(data = wine, columns = list(wine.columns.values)))"
      ]
    },
    {
      "cell_type": "markdown",
      "metadata": {
        "id": "sHl08_FINjAy"
      },
      "source": [
        "Realizamos una comprobación de datos perdidos para verificar el paso anterior."
      ]
    },
    {
      "cell_type": "code",
      "execution_count": null,
      "metadata": {
        "id": "Oc9qb1zoNjAz"
      },
      "outputs": [],
      "source": [
        "wine_clean.isnull().sum() + wine_clean.eq('').sum() + wine_clean.eq(0).sum()"
      ]
    },
    {
      "cell_type": "markdown",
      "metadata": {
        "id": "o7wV1zPCNjAz"
      },
      "source": [
        "Se aprecia que no existen valores perdidos. Esto se comprueba sumando los elementos Nulls + ceros + blancos. Podemos observar que existen valores 0 para el ácido cítrico, sin embargo, atribuimos ese dato a valores reales de alguna variedad de vino que no contiene esta propiedad."
      ]
    },
    {
      "cell_type": "markdown",
      "metadata": {
        "id": "IflkhgbkNjA0"
      },
      "source": [
        "### 3.2. Identificación y tratamiento de valores extremos."
      ]
    },
    {
      "cell_type": "markdown",
      "metadata": {
        "id": "PejI8fDUNjA0"
      },
      "source": [
        "Los valores extremos u outliers son aquellos cuyos valores sobrepasan un margen numérico al comparar con el resto de datos. A continuación se representan las variables mediante un boxplot para detectar qué valores distan mucho del rango intercuartílico. De esta forma se identificarán los valores atípicos para aquellas columnas que los contengan.\n",
        "\n",
        "Antes de proceder a identificar los valores extremos, realizamos un escalamiento de valores en el dataset."
      ]
    },
    {
      "cell_type": "code",
      "execution_count": null,
      "metadata": {
        "id": "Dc6FcgwINjA0"
      },
      "outputs": [],
      "source": [
        "wine_clean_x = wine_clean.iloc[:,[i for i in range(len(wine_clean.columns) - 1)]]\n",
        "wine_clean_x.describe()"
      ]
    },
    {
      "cell_type": "markdown",
      "metadata": {
        "id": "kbfQzhjwNjA1"
      },
      "source": [
        "El código anterior extrae la información de las columnas (variables independientes), luego muestra el resultado del dataset en forma de resumen mediante la función \"describe\"."
      ]
    },
    {
      "cell_type": "code",
      "execution_count": null,
      "metadata": {
        "id": "Z6iPqyChNjA1"
      },
      "outputs": [],
      "source": [
        "escala_standar = preprocessing.StandardScaler()\n",
        "np_escalados = escala_standar.fit_transform(wine_clean_x)\n",
        "wine_clean_escal = pd.DataFrame(np_escalados, columns = [name for name in list(wine_clean_x)])\n",
        "wine_clean_escal.head()"
      ]
    },
    {
      "cell_type": "markdown",
      "metadata": {
        "id": "i6rMVVoYNjA2"
      },
      "source": [
        "Presentamos la gráfica a partir del escalamiento de las variables obtenidas en el dataset wine_clen_escal"
      ]
    },
    {
      "cell_type": "code",
      "execution_count": null,
      "metadata": {
        "id": "aUIUWXaGNjA2"
      },
      "outputs": [],
      "source": [
        "fig = plt.figure(figsize = (20,10))\n",
        "wine_clean_escal.boxplot(column=[name for name in list(wine_clean_escal)], grid=False)"
      ]
    },
    {
      "cell_type": "markdown",
      "metadata": {
        "id": "reDNNmf3NjA2"
      },
      "source": [
        "Se observa en la representación anterior que las variables residuales sugar, chlorides, total sulfur y sulphates contienen datos lejanos u outliers, los mismos que pueden ser eliminados ya que puede atribuirse a un dato erróneo mal ingresado. Sin embargo, pueden presentarse casos en donde las propiedades fisicoquímicas exceden los valores normales debido al proceso de la fermentación del vino, además no se descarta que un vino de alta calidad pueda tener una composición muy rara con valores atipicos. Debido a esto los valores extremos no se los suprime en esta etapa."
      ]
    },
    {
      "cell_type": "markdown",
      "metadata": {
        "id": "sb7eVJXRNjA2"
      },
      "source": [
        "# 4. Análisis de datos.\n",
        "\n",
        "Se aprecia que todos atributos son variables numéricas que corresponden con características fisicoquímicas del vino por lo cual sería importante conservar todos estos atributos durante la realización en la etapa inicial de selección de datos. Durante esta primera parte del proceso es posible categorizar la variable dependiente de calidad del vino disminuyendo el número de categorías a 2, definiendo los valores mayores a 7 como vinos “buenos”.\n",
        "\n",
        "En primer orden se realiza la selección las columnas que son consideradas variables independientes (causa) para identificar outliers o valores extremos."
      ]
    },
    {
      "cell_type": "markdown",
      "metadata": {
        "id": "gaquLWDdNjA3"
      },
      "source": [
        "### 4.1. Selección de los grupos de datos que se quieren analizar/comparar (planificación de los análisis a aplicar).\n",
        "\n",
        "Para poder identificar el grado de dependencia con la variable objetivo se realizará el respectivo análisis mediante un modelo de regresión lineal. En primer lugar, debemos conocer la correlación entre las distintas variables con la variable de resultado para identificar cuales tienen mayor influencia. \n"
      ]
    },
    {
      "cell_type": "markdown",
      "metadata": {
        "id": "yWDZJFxVNjA3"
      },
      "source": [
        "La correlación es una técnica estadística para verificar la dependencia entre pares de variables. Se trazar un mapa de calor que se usa para indicar una relación predictiva. Cabe indicar que la correlación entre características no implica una relación causal. Es decir, el coeficiente de correlación en la misma variable es 1. En los demás casos, la correlación tiende a ser menor que 1. El coeficiente de correlación también puede tener una relación inversa, en ese caso el coeficiente de correlación tenderá ser igual a -1. Es decir, cuanto más cerca esté de +1 o -1, más estrechamente se relacionan las dos variables."
      ]
    },
    {
      "cell_type": "code",
      "execution_count": null,
      "metadata": {
        "id": "sa4_7XwXNjA3"
      },
      "outputs": [],
      "source": [
        "wine_clean.head()"
      ]
    },
    {
      "cell_type": "markdown",
      "metadata": {
        "id": "nKXxRALONjA3"
      },
      "source": [
        "Podemos apreciar que la variable quality es tipo float. Con la finalidad de ayudar en visualización de gráficas, convertimos esta columna en entero."
      ]
    },
    {
      "cell_type": "code",
      "execution_count": null,
      "metadata": {
        "id": "T59mxRYRNjA4"
      },
      "outputs": [],
      "source": [
        "wine_clean['quality'] = wine_clean['quality'].astype(int)\n",
        "wine_clean.head()"
      ]
    },
    {
      "cell_type": "code",
      "execution_count": null,
      "metadata": {
        "id": "oBzs11NRNjA4"
      },
      "outputs": [],
      "source": [
        "#Calcula y ordena las correlaciones\n",
        "matrizCorr = wine_clean.corr()['quality'].sort_values(ascending=False)\n",
        "print(matrizCorr)"
      ]
    },
    {
      "cell_type": "code",
      "execution_count": null,
      "metadata": {
        "id": "snpqOo86NjA5"
      },
      "outputs": [],
      "source": [
        "matrizCorr.plot(kind='bar')"
      ]
    },
    {
      "cell_type": "code",
      "execution_count": null,
      "metadata": {
        "id": "ThInygecNjA5"
      },
      "outputs": [],
      "source": [
        "print(abs(matrizCorr) > 0.2)"
      ]
    },
    {
      "cell_type": "markdown",
      "metadata": {
        "id": "7wiFo2MjNjA6"
      },
      "source": [
        "De todos los valores, estamos seleccionando el alcohol, sulfatos, citric_acid y volatile_acidity con el fin de estudiar mejor y ver la distribución de los valores que separan las diferentes cualidades."
      ]
    },
    {
      "cell_type": "markdown",
      "metadata": {
        "id": "YJ7f6tJ3NjA6"
      },
      "source": [
        "### Porcentaje de Alcohol."
      ]
    },
    {
      "cell_type": "code",
      "execution_count": null,
      "metadata": {
        "id": "RKANDmmrNjA6"
      },
      "outputs": [],
      "source": [
        "bp = sns.boxplot(x='quality',y='alcohol', data=wine_clean)\n",
        "bp.set(title=\"Porcentaje de Alcohol en diferentes calidades de vino.\")"
      ]
    },
    {
      "cell_type": "markdown",
      "metadata": {
        "id": "696hudIWNjA7"
      },
      "source": [
        "En la gráfica anterior podemos ver que los vinos que contienen menos alcohol parecen estar obteniendo peores calificaciones, mientras que los que tienen un porcentaje de alcohol más alto obtienen mejores calificaciones de calidad. Sin embargo, podemos observar cómo los vinos de \"calidad media\" con calificación 5 o 6 están presentando unos valores extraños.\n",
        "\n",
        "Para ver por qué tenemos estos valores diferentes, vamos a seleccionar un subconjunto del conjunto de datos que solo contendrá filas cuyo valor de columna de calidad sea 5 o 6, y calcularemos los coeficientes de correlación para este subconjunto."
      ]
    },
    {
      "cell_type": "code",
      "execution_count": null,
      "metadata": {
        "id": "M0cVImUpNjA7"
      },
      "outputs": [],
      "source": [
        "wine_clean_5_6 = wine_clean.loc[(wine_clean['quality'] >= 5) & (wine_clean['quality'] <= 6)]\n",
        "wine_clean_5_6['quality'].value_counts()"
      ]
    },
    {
      "cell_type": "code",
      "execution_count": null,
      "metadata": {
        "id": "3_0-Y2OlNjA7"
      },
      "outputs": [],
      "source": [
        "correlations_subset = wine_clean_5_6.corr()['quality'].sort_values(ascending=False)\n",
        "print(correlations_subset)"
      ]
    },
    {
      "cell_type": "markdown",
      "metadata": {
        "id": "4lJQqSMfNjA8"
      },
      "source": [
        "Luego de calcular las correlaciones para vinos con calidad de 5 y 6 se encuentra que las características que más se correlacionan siguen siendo las mismas de antes. Entonces la diferencia de valores que se muestra en la gráfica de caja se puede explicar debido a que existe (aunque es la más alta) una mala correlación de calidad.\n",
        "\n",
        "De todas estas características seleccionamos las que tengan mayor número ya que son las que nos darán más información. Para ello vamos a establecer un umbral mínimo de correlación en torno a 0,2 (valor absoluto) ya que no tenemos que tener en cuenta características cuyos valores pueden ser redundantes y no aportar información alguna."
      ]
    },
    {
      "cell_type": "markdown",
      "metadata": {
        "id": "EmM4pQncNjA8"
      },
      "source": [
        "### Presencia de sulfatos y ácido cítrico."
      ]
    },
    {
      "cell_type": "code",
      "execution_count": null,
      "metadata": {
        "id": "pq91bn0ENjA8"
      },
      "outputs": [],
      "source": [
        "bp = sns.boxplot(x='quality',y='sulphates', data=wine_clean)\n",
        "bp.set(title=\"Sulfatos en diferentes calidades de vino.\")"
      ]
    },
    {
      "cell_type": "code",
      "execution_count": null,
      "metadata": {
        "id": "j4Rou9myNjA9"
      },
      "outputs": [],
      "source": [
        "bp = sns.boxplot(x='quality',y='citric acid', data=wine_clean)\n",
        "bp.set(title=\"Acido citrico en diferentes calidades de vino.\")"
      ]
    },
    {
      "cell_type": "markdown",
      "metadata": {
        "id": "JvryRVB6NjA9"
      },
      "source": [
        "La relación entre \"sulfatos\" y \"ácido_cítrico\" con la calidad parece ser linealmente positiva, comprobando que los coeficientes de correlación calculados con anterioridad eran correctos. Es decir al parecer aumenta la calidad de los vinos cuando las cantidades de sulfatos y ácido cítrico son cada vez mas altas."
      ]
    },
    {
      "cell_type": "markdown",
      "metadata": {
        "id": "MbfkIp2oNjA9"
      },
      "source": [
        "### Presencia de ácido acético."
      ]
    },
    {
      "cell_type": "code",
      "execution_count": null,
      "metadata": {
        "id": "BOQ094fzNjA9"
      },
      "outputs": [],
      "source": [
        "bp = sns.boxplot(x='quality',y='volatile acidity', data=wine_clean)\n",
        "bp.set(title=\"Presencia de ácido acético en diferentes calidades del vino\")"
      ]
    },
    {
      "cell_type": "markdown",
      "metadata": {
        "id": "ZlvEppAHNjA-"
      },
      "source": [
        "Se puede observar que una menor presencia de ácido acético en el vino parece aumentar su calidad. \n",
        "\n",
        "Una vez estudiado el conjunto de datos a través de diferentes gráficos, seleccionamos las características que usaremos en los diferentes algoritmos. Utilizaremos las mismas columnas que estudiamos en la seccipon anterior, ya que son las variables que más información nos dan entre características y calidad."
      ]
    },
    {
      "cell_type": "code",
      "execution_count": null,
      "metadata": {
        "id": "o7vuyDYFNjA-"
      },
      "outputs": [],
      "source": [
        "wine_clean_sel = wine_clean[['alcohol','volatile acidity','citric acid','sulphates','quality']]\n",
        "wine_clean_sel.head()"
      ]
    },
    {
      "cell_type": "markdown",
      "metadata": {
        "id": "MvNr3opgNjA-"
      },
      "source": [
        "## 4.2. Comprobación de la normalidad y homogeneidad de la varianza."
      ]
    },
    {
      "cell_type": "markdown",
      "metadata": {
        "id": "PysaZPh0NjA_"
      },
      "source": [
        "### 4.2.1 Normalidad.\n",
        "\n",
        "La prueba shapiro-wilk es una prueba de normalidad. Se utiliza para determinar si una muestra procede o no de una\n",
        "distribución normal. Se utiliza la función scipy.stats.shapiro() en python para realizar una prueba de Shapiro. \n",
        "Esta función devuelve una estadística de prueba y su valor p correspondiente. Si el valor p está por debajo de un cierto nivel\n",
        "de significancia, entonces tenemos suficiente evidencia para decir que los datos de la muestra no provienen de una\n",
        "distribución normal.\n",
        "\n",
        "Se espera tener un valor p mayor que el valor de significancia (es decir, 0.05) para que no se rechace la hipótesis nula. "
      ]
    },
    {
      "cell_type": "code",
      "execution_count": null,
      "metadata": {
        "id": "OGMUYDdCNjA_"
      },
      "outputs": [],
      "source": [
        "from scipy.stats import shapiro"
      ]
    },
    {
      "cell_type": "code",
      "execution_count": null,
      "metadata": {
        "id": "u8FIFM9KNjA_"
      },
      "outputs": [],
      "source": [
        "cols = wine_clean_sel.columns\n",
        "cols[:-1]"
      ]
    },
    {
      "cell_type": "code",
      "execution_count": null,
      "metadata": {
        "id": "GYuz3NcKNjBA"
      },
      "outputs": [],
      "source": [
        "for i in list(cols[:-1]):\n",
        "    print(i)\n",
        "    sns.distplot(wine_clean_sel[i] , color = \"b\" , bins = 60 , hist_kws = {\"alpha\" : 0.4})\n",
        "    plt.show()\n",
        "\n",
        "    test_statistic , pvalue = shapiro(wine_clean_sel[i]) \n",
        "    print(\"Test Estadístico Shapiro : %.4f , pvalue : %.20f\" % (test_statistic , pvalue))\n",
        "    if pvalue > 0.05:\n",
        "        print('Es una distribución normal pvalue > 0.05')\n",
        "    else:\n",
        "        print('No es una distribución normal pvalue < 0.05')\n",
        "\n",
        "    print(\"*\"*100)"
      ]
    },
    {
      "cell_type": "markdown",
      "metadata": {
        "id": "8SwxLerPNjBA"
      },
      "source": [
        "Podemos observar que los conjutnos de datos no son normales, aunque gráficamente parecen serlo debido al gran tamaño de la muestra. Debido a esto el tamaño de pvalue es tan pequeño y no llega a 0.05. "
      ]
    },
    {
      "cell_type": "markdown",
      "metadata": {
        "id": "22-LsaaONjBB"
      },
      "source": [
        "### 4.2.1 Homogeneidad de la varianza.\n",
        "\n",
        "Separamos en dos conjuntos de datos la calidad del vino >= 7 buen vino con valor de 1, y menor a 7 con valor de 0."
      ]
    },
    {
      "cell_type": "code",
      "execution_count": null,
      "metadata": {
        "id": "QAcBWjQeNjBB"
      },
      "outputs": [],
      "source": [
        "wine_clean_sel['best_quality'] = [ 1 if x>=7 else 0 for x in wine_clean_sel.quality]; \n",
        "wine_clean_sel.head()\n"
      ]
    },
    {
      "cell_type": "code",
      "execution_count": null,
      "metadata": {
        "id": "1dSdJWFbNjBC"
      },
      "outputs": [],
      "source": [
        "wine_clean_sel"
      ]
    },
    {
      "cell_type": "markdown",
      "metadata": {
        "id": "nfDhTRwTNjBC"
      },
      "source": [
        "Agrupamos las variables segun la calidad del vino."
      ]
    },
    {
      "cell_type": "code",
      "execution_count": null,
      "metadata": {
        "id": "bsUtmuPvNjBC"
      },
      "outputs": [],
      "source": [
        "alcohol_good = wine_clean_sel.loc[wine_clean_sel.best_quality == 1, 'alcohol']\n",
        "alcohol_bad = wine_clean_sel.loc[wine_clean_sel.best_quality == 0, 'alcohol']\n",
        "\n",
        "volatile_good = wine_clean_sel.loc[wine_clean_sel.best_quality == 1, 'volatile acidity']\n",
        "volatile_bad = wine_clean_sel.loc[wine_clean_sel.best_quality == 0, 'volatile acidity']\n",
        "\n",
        "citric_good = wine_clean_sel.loc[wine_clean_sel.best_quality == 1, 'citric acid']\n",
        "citric_bad = wine_clean_sel.loc[wine_clean_sel.best_quality == 0, 'citric acid']\n",
        "\n",
        "sulphates_good = wine_clean_sel.loc[wine_clean_sel.best_quality == 1, 'sulphates']\n",
        "sulphates_bad = wine_clean_sel.loc[wine_clean_sel.best_quality == 0, 'sulphates']"
      ]
    },
    {
      "cell_type": "markdown",
      "metadata": {
        "id": "S6KZIyEZNjBC"
      },
      "source": [
        "#### 4.2.1.a Método de contraste de hipótesis.\n",
        "\n",
        "La homogeneidad de la varianza conocida como \"supuesto de homocedasticidad\" podemos verificarlo mediente los tests de Levene, Bartlett o Fligner-Killeen que son empleados generalmente para comparar la varianza entre grupos. Estos test indican que la hipótesis nula consiste en que ambas varianzas son iguales o constantes (no varía) en los diferentes niveles de un factor. Esta condición de homocedasticidad también hace referencia a los errores (residuos) en los modelos de regresión lineal. Si el p-value es menor que un determinado valor (típicamente 0.05), entonces se considera que hay evidencias suficientes para rechazar la homocedasticidad en favor de la heterocedasticidad.\n",
        "\n",
        "El test de Levene y el test de Fligner-Killeen (este último no paramétrico) son más robustos que el test de Bartlett ante la  falta de normalidad, por lo que suele desaconsejarse su uso. El test de Levene y Bartlett permiten elegir diferentes datos estadísticos centrales como: mediana, media, media truncada siendo importante a la hora de contrastar la homocedasticidad dependiendo de si los grupos se distribuyen de forma normal o no.\n",
        "\n",
        "Si se tiene seguridad de que las muestras a comparar proceden de poblaciones que siguen una distribución normal, es\n",
        "recomendable el test de Bartlett. De lo contrario se recomienda los tests de Leven el de Fligner-Killeen que se basan en la mediana."
      ]
    },
    {
      "cell_type": "code",
      "execution_count": null,
      "metadata": {
        "id": "R7dPkW1dNjBC"
      },
      "outputs": [],
      "source": [
        "from scipy.stats import fligner\n",
        "from scipy.stats import levene\n",
        "from scipy.stats import bartlett"
      ]
    },
    {
      "cell_type": "code",
      "execution_count": null,
      "metadata": {
        "id": "I5BaRvP1NjBD"
      },
      "outputs": [],
      "source": [
        "# Levene test\n",
        "# ==============================================================================\n",
        "lt_alcohol = levene(alcohol_good, alcohol_bad, center='median')\n",
        "lt_volatile = levene(volatile_good, volatile_bad, center='median')\n",
        "lt_citric = levene(citric_good, citric_bad, center='median')\n",
        "lt_sulphates = levene(sulphates_good, sulphates_bad, center='median')\n"
      ]
    },
    {
      "cell_type": "code",
      "execution_count": null,
      "metadata": {
        "id": "ht0bw85INjBD"
      },
      "outputs": [],
      "source": [
        "lt_alcohol"
      ]
    },
    {
      "cell_type": "code",
      "execution_count": null,
      "metadata": {
        "id": "r29_frZcNjBD"
      },
      "outputs": [],
      "source": [
        "lt_citric"
      ]
    },
    {
      "cell_type": "code",
      "execution_count": null,
      "metadata": {
        "id": "BEwgRQcrNjBE"
      },
      "outputs": [],
      "source": [
        "lt_volatile"
      ]
    },
    {
      "cell_type": "code",
      "execution_count": null,
      "metadata": {
        "id": "OI8e0K2CNjBE"
      },
      "outputs": [],
      "source": [
        "lt_sulphates"
      ]
    },
    {
      "cell_type": "markdown",
      "metadata": {
        "id": "Xn2incAXNjBE"
      },
      "source": [
        "Ninguno de los test muestra evidencias para rechazar la hipótesis de que los dos grupos tienen la misma varianza, homocedasticidad. p-value >>>> 0.05, a excepción del acido cítrico"
      ]
    },
    {
      "cell_type": "markdown",
      "metadata": {
        "id": "GN8bdURONjBE"
      },
      "source": [
        "#### 4.2.1.b Métodos gráficos.\n",
        "\n",
        "Los métodos gráficos tambien se utilizan para analizar la homocedasticidad, estos consisten en presentar los datos mediante boxplots o violinplot, ya que permiten comparar la dispersión de los grupos."
      ]
    },
    {
      "cell_type": "code",
      "execution_count": null,
      "metadata": {
        "id": "GE31bzPONjBF"
      },
      "outputs": [],
      "source": [
        "# Grafico de cajas\n",
        "# ==============================================================================\n",
        "fig, ax = plt.subplots(nrows=1, ncols=1, figsize=(7, 3.5))\n",
        "sns.boxplot(\n",
        "    x       = 'best_quality',\n",
        "    y       = 'alcohol',\n",
        "    data    = wine_clean_sel,\n",
        "    palette = 'tab10',\n",
        "    ax      = ax\n",
        ")\n",
        "ax.set_title('Distribución de calidad por grados de alcohol')\n",
        "ax.set_xlabel('Calidad(1=Calidad Alta 0=Calidad Media)')\n",
        "ax.set_ylabel('Alcohol');"
      ]
    },
    {
      "cell_type": "code",
      "execution_count": null,
      "metadata": {
        "id": "rDXB3odZNjBF"
      },
      "outputs": [],
      "source": [
        "fig, ax = plt.subplots(nrows=1, ncols=1, figsize=(7, 3.5))\n",
        "sns.boxplot(\n",
        "    x       = 'best_quality',\n",
        "    y       = 'volatile acidity',\n",
        "    data    = wine_clean_sel,\n",
        "    palette = 'tab10',\n",
        "    ax      = ax\n",
        ")\n",
        "ax.set_title('Distribución de calidad por volatile acidity')\n",
        "ax.set_xlabel('Calidad(1=Calidad Alta 0=Calidad Media)')\n",
        "ax.set_ylabel('volatile acidity');"
      ]
    },
    {
      "cell_type": "code",
      "execution_count": null,
      "metadata": {
        "id": "aBoLmiOxNjBF"
      },
      "outputs": [],
      "source": [
        "fig, ax = plt.subplots(nrows=1, ncols=1, figsize=(7, 3.5))\n",
        "sns.boxplot(\n",
        "    x       = 'best_quality',\n",
        "    y       = 'citric acid',\n",
        "    data    = wine_clean_sel,\n",
        "    palette = 'tab10',\n",
        "    ax      = ax\n",
        ")\n",
        "ax.set_title('Distribución de calidad por citric acid')\n",
        "ax.set_xlabel('Calidad(1=Calidad Alta 0=Calidad Media)')\n",
        "ax.set_ylabel('citric acid');"
      ]
    },
    {
      "cell_type": "code",
      "execution_count": null,
      "metadata": {
        "id": "C19kaY7PNjBG"
      },
      "outputs": [],
      "source": [
        "fig, ax = plt.subplots(nrows=1, ncols=1, figsize=(7, 3.5))\n",
        "sns.boxplot(\n",
        "    x       = 'best_quality',\n",
        "    y       = 'sulphates',\n",
        "    data    = wine_clean_sel,\n",
        "    palette = 'tab10',\n",
        "    ax      = ax\n",
        ")\n",
        "ax.set_title('Distribución de calidad por sulphates')\n",
        "ax.set_xlabel('Calidad(1=Calidad Alta 0=Calidad Media)')\n",
        "ax.set_ylabel('sulphates');"
      ]
    },
    {
      "cell_type": "markdown",
      "metadata": {
        "id": "p-571gK-NjBG"
      },
      "source": [
        "## 4.3.\tAplicación de pruebas estadísticas para comparar los grupos de datos. \n",
        "\n",
        "En función de los datos y el objetivo del estudio, aplicar pruebas de contraste de hipótesis, correlaciones, regresiones, etc. Aplicar al menos tres métodos de análisis diferentes.\n",
        "\n",
        "### 4.3.1 Matriz de correlación (en forma de mapa de calor)."
      ]
    },
    {
      "cell_type": "code",
      "execution_count": null,
      "metadata": {
        "id": "driFWVKrNjBG"
      },
      "outputs": [],
      "source": [
        "matrizCorr = wine_clean.corr()\n",
        "fig = plt.subplots(figsize=(10,10))\n",
        "sns.heatmap(matrizCorr, vmax=1, square=True,annot=True, cmap=\"Reds\")\n",
        "plt.show()"
      ]
    },
    {
      "cell_type": "markdown",
      "metadata": {
        "id": "97GcPkXbNjBH"
      },
      "source": [
        "Podemos observar algunas correlaciones de características como el pH y la acidez. Aparte de eso se aprecia que aproximadamente la mitad de estas características se correlacionan positivamente con la calidad mientras que la otra mitad correlacionan negativamente.\n",
        "\n",
        "El mapa de calor muestra las correlaciones entre las variables, vemos que la diagonal esta altamente relacionada y esto es\n",
        "lógico ya que todas las variables están correlacionadas consigo misma, entre más oscuro es este recuadro donde coinciden dos\n",
        "variables significa que hay una fuerte correlación positiva, y entre mas claro indica que hay una correlación a la inversa.\n",
        "\n"
      ]
    },
    {
      "cell_type": "code",
      "execution_count": null,
      "metadata": {
        "id": "iSTX2z6uNjBH"
      },
      "outputs": [],
      "source": [
        "wine_clean.hist(bins = 30, figsize=(20,20), color = 'r')\n",
        "plt.show()\n"
      ]
    },
    {
      "cell_type": "markdown",
      "metadata": {
        "id": "C0SryyQxNjBI"
      },
      "source": [
        "Regresión lineal con statsmodel"
      ]
    },
    {
      "cell_type": "markdown",
      "metadata": {
        "id": "tJvygbVaNjBI"
      },
      "source": [
        "### 4.3.2 Construcción de un modelo lineal"
      ]
    },
    {
      "cell_type": "code",
      "execution_count": null,
      "metadata": {
        "id": "6YuXCvk8NjBJ"
      },
      "outputs": [],
      "source": [
        "from sklearn.model_selection import train_test_split\n",
        "from sklearn.linear_model import LinearRegression\n",
        "from sklearn import metrics\n",
        "\n",
        "correlations = wine_clean.corr()[\"quality\"].drop(\"quality\")\n",
        "print(correlations)"
      ]
    },
    {
      "cell_type": "code",
      "execution_count": null,
      "metadata": {
        "id": "8a-Ab4MANjBJ"
      },
      "outputs": [],
      "source": [
        "def get_features(correlation_threshold):\n",
        "    max_corrs = correlations.abs()\n",
        "    high_correaltions = max_corrs\n",
        "    high_correaltions = max_corrs[max_corrs > correlation_threshold].index.values.tolist()\n",
        "\n",
        "    return high_correaltions"
      ]
    },
    {
      "cell_type": "code",
      "execution_count": null,
      "metadata": {
        "id": "DVJQBr4mNjBJ"
      },
      "outputs": [],
      "source": [
        "features = get_features(0.1)\n",
        "print(features)"
      ]
    },
    {
      "cell_type": "code",
      "execution_count": null,
      "metadata": {
        "id": "ioy0Y1vPNjBK"
      },
      "outputs": [],
      "source": [
        "X = wine_clean[features]\n",
        "y = wine_clean['quality'] \n",
        "X.head()"
      ]
    },
    {
      "cell_type": "code",
      "execution_count": null,
      "metadata": {
        "id": "G9wedVqANjBK"
      },
      "outputs": [],
      "source": [
        "y.head()"
      ]
    },
    {
      "cell_type": "code",
      "execution_count": null,
      "metadata": {
        "id": "YbGeCiPfNjBL"
      },
      "outputs": [],
      "source": [
        "X_train, X_test, y_train, y_test = train_test_split(X, y, test_size=0.3,random_state=0)"
      ]
    },
    {
      "cell_type": "code",
      "execution_count": null,
      "metadata": {
        "id": "J_LQ8oe8NjBL"
      },
      "outputs": [],
      "source": [
        "lr = LinearRegression()\n",
        "lr.fit(X_train, y_train)\n",
        "\n",
        "print(lr.coef_)"
      ]
    },
    {
      "cell_type": "code",
      "execution_count": null,
      "metadata": {
        "id": "XWkopBDFNjBM"
      },
      "outputs": [],
      "source": [
        "train_pred = lr.predict(X_train)\n",
        "print(train_pred)"
      ]
    },
    {
      "cell_type": "code",
      "execution_count": null,
      "metadata": {
        "id": "OSd55kAwNjBM"
      },
      "outputs": [],
      "source": [
        "test_pred = lr.predict(X_test)\n",
        "print(test_pred[0:10])"
      ]
    },
    {
      "cell_type": "code",
      "execution_count": null,
      "metadata": {
        "id": "5c47oloeNjBM"
      },
      "outputs": [],
      "source": [
        "rmse_train = metrics.mean_squared_error(train_pred, y_train) ** 0.5\n",
        "print(rmse_train)"
      ]
    },
    {
      "cell_type": "code",
      "execution_count": null,
      "metadata": {
        "id": "5qL3Gy3hNjBN"
      },
      "outputs": [],
      "source": [
        "rmse_test = metrics.mean_squared_error(test_pred, y_test) ** 0.5\n",
        "print(rmse_test)"
      ]
    },
    {
      "cell_type": "code",
      "execution_count": null,
      "metadata": {
        "id": "8t1q424PNjBN"
      },
      "outputs": [],
      "source": [
        "predicted_data = np.round_(test_pred)\n",
        "print(predicted_data)"
      ]
    },
    {
      "cell_type": "code",
      "execution_count": null,
      "metadata": {
        "id": "NMllmC9ZNjBN"
      },
      "outputs": [],
      "source": [
        "print('Mean Absolute Error:', metrics.mean_absolute_error(test_pred, y_test))\n",
        "print('Mean Squared Error:', metrics.mean_squared_error(test_pred, y_test))\n",
        "print('Root Mean Squared Error:', np.sqrt(metrics.mean_squared_error(test_pred, y_test)))"
      ]
    },
    {
      "cell_type": "code",
      "execution_count": null,
      "metadata": {
        "id": "gytuITz2NjBO"
      },
      "outputs": [],
      "source": [
        "coefficients = pd.DataFrame(lr.coef_, features) \n",
        "coefficients.columns = ['Coefficient']\n",
        "print(coefficients)"
      ]
    },
    {
      "cell_type": "markdown",
      "metadata": {
        "id": "NcVcgJitNjBO"
      },
      "source": [
        "Los coeficientes anteriores denotan el impacto de cada variable en la Calidad del Vino. Por cada aumento de la medida de alcohol aumentará un 0,26 en la calidad. El aumento de cloruros disminuirá la calidad del vino."
      ]
    },
    {
      "cell_type": "markdown",
      "metadata": {
        "id": "ZoWDuX8gNjBO"
      },
      "source": [
        "#### 4.3.2.1 Regresión lineal"
      ]
    },
    {
      "cell_type": "code",
      "execution_count": null,
      "metadata": {
        "id": "T53PcguoNjBP"
      },
      "outputs": [],
      "source": [
        "import statsmodels.api as sm\n",
        "from patsy import dmatrices\n",
        "from scipy import stats"
      ]
    },
    {
      "cell_type": "code",
      "execution_count": null,
      "metadata": {
        "id": "fDRQ8xOMNjBP"
      },
      "outputs": [],
      "source": [
        "y_qa, X_qa = dmatrices('quality ~ alcohol', data=wine_clean, return_type='dataframe')\n",
        "print(\"X:\", type(X_qa))\n",
        "print(X_qa.columns)\n",
        "model=sm.OLS(y_qa, X_qa)\n",
        "result=model.fit()\n",
        "result.summary()"
      ]
    },
    {
      "cell_type": "code",
      "execution_count": null,
      "metadata": {
        "id": "vbr6Cn9DNjBQ"
      },
      "outputs": [],
      "source": [
        "result.params"
      ]
    },
    {
      "cell_type": "markdown",
      "metadata": {
        "id": "vgFTNtTUNjBQ"
      },
      "source": [
        "El resultado anterior del modelo de regresión de calidad de vino vs contenido de alcohol muestra que el valor mínimo para la calidad es 1.87 y habrá un incremento por unidad individual para la calidad del vino por cada cambio de 0.360842 unidades de alcohol. "
      ]
    },
    {
      "cell_type": "markdown",
      "metadata": {
        "id": "9NdYwNKKNjBR"
      },
      "source": [
        "### 4.3.3 Contraste de Hipótesis"
      ]
    },
    {
      "cell_type": "markdown",
      "metadata": {
        "id": "dN5jb8_vNjBS"
      },
      "source": [
        "#### ¿Los vinos con calidad baja son más frecuente debido a un volatile acidity bajo?\n",
        "\n",
        "| Hipótesis nula        | $H_O: \\bar{qualityLow_{volatileAcidityLow}} <= \\bar{qualityLow_{volatileAcidityHigh}}$ |\n",
        "| ---                   | ------                                                                          |\n",
        "| Hipótesis alternativa | $H_1: \\bar{qualityLow_{volatileAcidityLow}} > \\bar{qualityLow_{volatileAcidityHigh}}$ |\n"
      ]
    },
    {
      "cell_type": "code",
      "execution_count": null,
      "metadata": {
        "id": "Xn9Tw6NmNjBT"
      },
      "outputs": [],
      "source": [
        "qualityLow = wine_clean[(wine_clean['quality'] <= 6.5)]"
      ]
    },
    {
      "cell_type": "markdown",
      "metadata": {
        "id": "8XnsHEHoNjBT"
      },
      "source": [
        "El acetic acid (volatile acidity) tiene sus medidas en el dataset en gramos por [decímetro cúbico](https://www.sciencedirect.com/science/article/pii/S0167923609001377?via%3Dihub), y sus valores mínimo, máximo y media son respectivamente 0.1, 1.6, 0.5. Se considerará volatile acidity bajo a los que estén menores o iguales a la media. Para ello se aplica una prueba de contraste de hipótesis unilateral derecho sobre la media."
      ]
    },
    {
      "cell_type": "code",
      "execution_count": null,
      "metadata": {
        "id": "s0qoUFzhNjBT"
      },
      "outputs": [],
      "source": [
        "volatileAcidityLow = qualityLow[(qualityLow['volatile acidity'] <= 0.5)]\n",
        "volatileAcidityHigh = qualityLow[(qualityLow['volatile acidity'] > 0.5)]\n",
        "stats.ttest_ind(volatileAcidityLow['quality'], volatileAcidityHigh['quality'], alternative='greater')"
      ]
    },
    {
      "cell_type": "markdown",
      "metadata": {
        "id": "OISp3eOLNjBU"
      },
      "source": [
        "Hay evidencia estadística para rechazar la hipótesis nula a favor de la alternativa, por tanto se tiene qué la media de la calidad del vino (de baja calidad) cuando la acidez volátil es baja es mayor que el vino malo con acidez volátil alta."
      ]
    },
    {
      "cell_type": "markdown",
      "metadata": {
        "id": "KQ98tASeNjBU"
      },
      "source": [
        "#### ¿En promedio la calidad del vino que tienen un fixed acidity alto es mayor que la de un fixed acidity bajo?\n",
        "\n",
        "| Hipótesis nula        | $H_O: \\bar{quality_{fixedAcidityHigh}} <= \\bar{quality_{fixedAcidityLow}}$ |\n",
        "| ---                   | ------                                                                     |\n",
        "| Hipótesis alternativa | $H_1: \\bar{quality_{fixedAcidityHigh}} > \\bar{quality_{fixedAcidityLow}}$  |\n"
      ]
    },
    {
      "cell_type": "markdown",
      "metadata": {
        "id": "kDWSH46yNjBU"
      },
      "source": [
        "La variable explicativa fixed acidity tiene una media de 7.9, por lo cuál se considerará como bajo los valores menores y como alto los mayores o iguales. Tendremos un contraste de hipótesis unilateral derecho."
      ]
    },
    {
      "cell_type": "code",
      "execution_count": null,
      "metadata": {
        "id": "ZUYarS96NjBV"
      },
      "outputs": [],
      "source": [
        "fixedAcidityLow = wine_clean[(wine_clean['fixed acidity'] < 7.9)]\n",
        "fixedAcidityHigh = wine_clean[(wine_clean['fixed acidity'] >= 7.9)]\n",
        "stats.ttest_ind(fixedAcidityHigh['quality'], fixedAcidityLow['quality'], alternative='greater')"
      ]
    },
    {
      "cell_type": "markdown",
      "metadata": {
        "id": "q8fRt7JFNjBV"
      },
      "source": [
        "Como el pvalue es menor a 0.05 entonces hay videncia estadística para rechazar la hipótesis nula a favor de la hipótesis alternativa. Por lo tanto la calidad del vino con una acidez fija es alta es mayor en promedio que la que tiene una acidez fija baja."
      ]
    },
    {
      "cell_type": "markdown",
      "metadata": {
        "id": "bqDoNwJ9NjBV"
      },
      "source": [
        "#### ¿Los vinos que tienen un ph alto son de mejor calidad?\n",
        "\n",
        "| Hipótesis nula        | $H_O: \\bar{quality_{phHigh}} <= \\bar{quality_{phLow}}$ |\n",
        "| ---                   | ------                                                                     |\n",
        "| Hipótesis alternativa | $H_1: \\bar{quality_{phHigh}} > \\bar{quality_{phLow}}$  |\n"
      ]
    },
    {
      "cell_type": "markdown",
      "metadata": {
        "id": "vPN7GSfMNjBV"
      },
      "source": [
        "El promedio del PH es 3.310000, por tanto se considerará como alto los valores mayores a ese número. Tendremos un contraste de hipótesis unilateral derecho."
      ]
    },
    {
      "cell_type": "code",
      "execution_count": null,
      "metadata": {
        "id": "FMUst6w2NjBW"
      },
      "outputs": [],
      "source": [
        "phLow = wine_clean[(wine_clean['pH'] <= 3.31)]\n",
        "phHigh = wine_clean[(wine_clean['pH'] > 3.31)]\n",
        "stats.ttest_ind(phHigh['quality'], phLow['quality'], alternative='greater')"
      ]
    },
    {
      "cell_type": "markdown",
      "metadata": {
        "id": "TUcgZUGNNjBW"
      },
      "source": [
        "No se puede rechazar la hipótesis nula, no hay suficiente evidencia estadística, así que como nos dice la hipótesis nula, los vinos que tienen un ph alto no son de mejor calidad o igual que los que tienen un ph bajo."
      ]
    },
    {
      "cell_type": "markdown",
      "metadata": {
        "id": "hTRw0CHtNjBW"
      },
      "source": [
        "# 5. Representación de los resultados a partir de tablas y gráficas"
      ]
    },
    {
      "cell_type": "code",
      "execution_count": null,
      "metadata": {
        "id": "sZMGPJ_iNjBW"
      },
      "outputs": [],
      "source": [
        "import scikitplot as skplt\n",
        "import matplotlib.pyplot as plt\n",
        "y_real = y\n",
        "y_predicted = lr.predict(X)\n",
        "diff = y_real - y_predicted\n",
        "diff.hist(bins = 40)\n",
        "plt.title('Histogram of prediction errors')\n",
        "plt.xlabel('MPG prediction error')\n",
        "plt.ylabel('Frequency')"
      ]
    },
    {
      "cell_type": "code",
      "execution_count": null,
      "metadata": {
        "id": "7QlrYiArNjBW"
      },
      "outputs": [],
      "source": [
        "import matplotlib.pyplot as plt\n",
        "_, ax = plt.subplots()\n",
        "\n",
        "ax.scatter(x = range(0, y_real.size), y=y_real, c = 'blue', label = 'Actual', alpha = 0.3)\n",
        "ax.scatter(x = range(0, y_predicted.size), y=y_predicted, c = 'red', label = 'Predicted', alpha = 0.3)\n",
        "\n",
        "plt.title('Actual and predicted values')\n",
        "plt.xlabel('Observations')\n",
        "plt.ylabel('Quality')\n",
        "plt.legend()\n",
        "plt.show()"
      ]
    },
    {
      "cell_type": "code",
      "execution_count": null,
      "metadata": {
        "id": "UX87ITjhNjBX"
      },
      "outputs": [],
      "source": [
        "y_real_sorted_index = np.argsort(y_real)\n",
        "y_real_sorted=y_real[y_real_sorted_index]\n",
        "y_predicted_sorted=y_predicted[y_real_sorted_index]\n",
        "_, ax = plt.subplots()\n",
        "\n",
        "ax.scatter(x = range(0, y_real_sorted.size), y=y_real_sorted, c = 'blue', label = 'Actual', alpha = 0.3)\n",
        "ax.scatter(x = range(0, y_predicted_sorted.size), y=y_predicted_sorted, c = 'red', label = 'Predicted', alpha = 0.3)\n",
        "\n",
        "plt.title('Actual and predicted values sorted')\n",
        "plt.xlabel('Observations')\n",
        "plt.ylabel('Quality')\n",
        "plt.legend()\n",
        "plt.show()"
      ]
    },
    {
      "cell_type": "markdown",
      "metadata": {
        "id": "gHaFCzG1NjBX"
      },
      "source": [
        "# 6. Resolución del problema. A partir de los resultados obtenidos, ¿cuáles son las conclusiones? ¿Los resultados permiten responder al problema?"
      ]
    },
    {
      "cell_type": "markdown",
      "metadata": {
        "id": "IsNJ0k1BNjBX"
      },
      "source": [
        "Conclusiones:\n",
        "\n",
        "Para garantizar la calidad de los datos se ha realizado una limpieza de datos. Debido a que el dataset fuente no contiene outliers o datos inconsistentes la información se mantuvo intacta hasta el final de la etapa. Se encontraron outliers en las variables: azúcar residual, cloridratos, total sulfur y sulphatess, sin embargo, pueden presentarse casos en donde las propiedades fisicoquímicas exceden los valores normales debido al proceso de la fermentación del vino, además no se descarta que un vino de alta calidad pueda tener una composición muy rara con valores atipicos. Debido a esto los valores extremos no se los suprimió.\n",
        "\n",
        "Se concluye que las pruebas de análisis de correlación y contraste de hipotesis permiten identificar las variables con mayor relación con la varible calidad del vino, en cambio el modelo de regresión lineal nos sirve para realizar predicciones para la variable resultado a partir de ciertos parámetros. \n",
        "\n",
        "Se aplican los modelos: stats, regresión lineal y el clasificador de bosque aleatorio. El clasificador de bosque aleatorio funcionó ligeramente mejor y se decidió utilizarlo si tuviéramos para realizar más predicciones. El uso de este análisis ayudará a comprender si modificando las variables es posible incrementar la calidad del vino en el mercado. Si puede controlar las variables, podría predecirse la calidad del vino y obtener sus beneficios."
      ]
    },
    {
      "cell_type": "code",
      "execution_count": null,
      "metadata": {
        "id": "41iC_tGpNjBY"
      },
      "outputs": [],
      "source": [
        ""
      ]
    }
  ],
  "metadata": {
    "colab": {
      "name": "M2.855_20191_PEC1-Solucion.ipynb",
      "provenance": []
    },
    "kernelspec": {
      "display_name": "Python 3",
      "language": "python",
      "name": "python3"
    },
    "language_info": {
      "codemirror_mode": {
        "name": "ipython",
        "version": 3
      },
      "file_extension": ".py",
      "mimetype": "text/x-python",
      "name": "python",
      "nbconvert_exporter": "python",
      "pygments_lexer": "ipython3",
      "version": "3.8.10"
    },
    "toc": {
      "base_numbering": 1,
      "nav_menu": {},
      "number_sections": true,
      "sideBar": true,
      "skip_h1_title": false,
      "title_cell": "Table of Contents",
      "title_sidebar": "Contents",
      "toc_cell": false,
      "toc_position": {},
      "toc_section_display": true,
      "toc_window_display": false
    }
  },
  "nbformat": 4,
  "nbformat_minor": 0
}