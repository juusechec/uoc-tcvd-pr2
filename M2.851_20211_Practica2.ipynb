{
 "cells": [
  {
   "cell_type": "markdown",
   "metadata": {
    "id": "LXgM05O7uYRK"
   },
   "source": [
    "<div style=\"width: 100%; clear: both;\">\n",
    "<div style=\"float: left; width: 50%;\">\n",
    "<img src=\"http://www.uoc.edu/portal/_resources/common/imatges/marca_UOC/UOC_Masterbrand.jpg\" align=\"left\">\n",
    "</div>\n",
    "<div style=\"float: right; width: 50%;\">\n",
    "<p style=\"margin: 0; padding-top: 22px; text-align:right;\">M2.851. Tipología y ciclo de vida de los datos · PRAC2</p>\n",
    "<p style=\"margin: 0; text-align:right;\">2021-1 · Máster universitario en Ciencia de datos (Data science)</p>\n",
    "<p style=\"margin: 0; text-align:right; padding-button: 100px;\">Estudios de Informática, Multimedia y Telecomunicación</p>\n",
    "</div>\n",
    "<div style=\"width:100%;\">&nbsp;</div>\n",
    "\n",
    "# PRAC 2: Introducción a la limpieza y análisis de los datos\n",
    "\n",
    "Los objetivos concretos de esta práctica son:\n",
    "\n",
    "•\tAprender a aplicar los conocimientos adquiridos y su capacidad de resolución de problemas en entornos nuevos o poco conocidos dentro de contextos más amplios o multidisciplinares.\n",
    " \n",
    "• Saber identificar los datos relevantes y los tratamientos necesarios (integración, limpieza y validación) para llevar a cabo un proyecto analítico.\n",
    "\n",
    "•\tAprender a analizar los datos adecuadamente para abordar la información contenida en los datos.\n",
    "\n",
    "•\tIdentificar la mejor representación de los resultados para aportar conclusiones sobre el problema planteado en el proceso analítico.\n",
    "\n",
    "•\tActuar con los principios éticos y legales relacionados con la manipulación de datos en función del ámbito de aplicación.\n",
    "\n",
    "•\tDesarrollar las habilidades de aprendizaje que les permitan continuar estudiando de un modo que tendrá que ser en gran medida autodirigido o autónomo.\n",
    "\n",
    "•\tDesarrollar la capacidad de búsqueda, gestión y uso de información y recursos en el ámbito de la ciencia de datos.\n",
    "\n",
    "# Integrantes de grupo:\n",
    "* Jorge Useche\n",
    "* Christian Zamora\n",
    "\n",
    "# Contenido.\n",
    "\n",
    "1. Descripción del dataset. ¿Por qué es importante y qué pregunta/problema pretende responder?<br>\n",
    "\n",
    "2. Integración y selección de los datos de interés a analizar.<br>\n",
    "\n",
    "    2.1 Análisis estadístico básico<br>\n",
    "    \n",
    "    2.2 Análisis exploratorio de los datos<br>\n",
    "    \n",
    "3. Limpieza de los datos.<br>\n",
    "    \n",
    "    3.1. ¿Los datos contienen ceros o elementos vacíos? ¿Cómo gestionarías cada uno de estos casos?<br>\n",
    "    \n",
    "    3.2. Identificación y tratamiento de valores extremos.<br>\n",
    "    \n",
    "4. Análisis de los datos.<br/>\n",
    "    \n",
    "    4.1. Selección de los grupos de datos que se quieren analizar/comparar (planificación de los análisis a aplicar).<br>\n",
    "    \n",
    "    4.2. Comprobación de la normalidad y homogeneidad de la varianza.<br>\n",
    "    \n",
    "    4.3. Aplicación de pruebas estadísticas para comparar los grupos de datos. En función de los datos y el objetivo del estudio, aplicar pruebas de contraste de hipótesis, correlaciones, regresiones, etc. Aplicar al menos tres métodos de análisis diferentes.<br>\n",
    "    \n",
    "5. Representación de los resultados a partir de tablas y gráficas.<br>\n",
    "    \n",
    "6. Resolución del problema. A partir de los resultados obtenidos, ¿cuáles son las conclusiones? ¿Los resultados permiten responder al problema?<br>\n",
    "    \n",
    "7.\tCódigo: Hay que adjuntar el código, preferiblemente en R, con el que se ha realizado la limpieza, análisis y representación de los datos. Si lo preferís, también podéis trabajar en Python.<br>\n",
    "\n",
    "Para ello vamos a necesitar las siguientes librerías:\n",
    "\n",
    "# Codificación."
   ]
  },
  {
   "cell_type": "code",
   "execution_count": 1,
   "metadata": {
    "id": "vxIAf0ZXuYRU"
   },
   "outputs": [],
   "source": [
    "from sklearn import datasets\n",
    "from sklearn import preprocessing\n",
    "from sklearn.decomposition import PCA\n",
    "from sklearn.model_selection import train_test_split\n",
    "from sklearn.ensemble import RandomForestClassifier\n",
    "from sklearn.metrics import accuracy_score, confusion_matrix, classification_report\n",
    "import numpy as np\n",
    "import seaborn as sns\n",
    "import matplotlib.pyplot as plt\n",
    "%matplotlib inline\n",
    "import pandas as pd\n",
    "pd.set_option('display.max_columns', None)"
   ]
  },
  {
   "cell_type": "markdown",
   "metadata": {
    "id": "Ipt2Q9eZuYRV"
   },
   "source": [
    "# Carga del conjunto de datos\n",
    "\n",
    "Primero , es necesario obtener el conjunto de datos. En este caso se realizará un analisis de la informacion concerniente a los vinos en la siguiente dirección enlace:\n",
    "\n",
    "https://www.kaggle.com/uciml/red-wine-quality-cortez-et-al-2009\n",
    "\n",
    "La fuente original citada por el author esta en la dirección siguiente:\n",
    "\n",
    "https://archive.ics.uci.edu/ml/datasets/wine+quality\n",
    "\n",
    "La información puede descargarse desde Internet, la misma se encuentra en formato comprimido .zip la cual se requiere descomprimir para su uso y corresponde solo a la categoria de vinos rojos.\n",
    "\n",
    "Dentro de la fuente original se encontrarán los archivos de datos para vinos rojos y blancos, adicional a esto la metadata de las columnas."
   ]
  },
  {
   "cell_type": "code",
   "execution_count": 2,
   "metadata": {},
   "outputs": [],
   "source": [
    "# Lectura del dataset, cargamos en la variable wine\n",
    "wine = pd.read_csv('winequality-red.csv')"
   ]
  },
  {
   "cell_type": "code",
   "execution_count": 3,
   "metadata": {},
   "outputs": [
    {
     "data": {
      "text/html": [
       "<div>\n",
       "<style scoped>\n",
       "    .dataframe tbody tr th:only-of-type {\n",
       "        vertical-align: middle;\n",
       "    }\n",
       "\n",
       "    .dataframe tbody tr th {\n",
       "        vertical-align: top;\n",
       "    }\n",
       "\n",
       "    .dataframe thead th {\n",
       "        text-align: right;\n",
       "    }\n",
       "</style>\n",
       "<table border=\"1\" class=\"dataframe\">\n",
       "  <thead>\n",
       "    <tr style=\"text-align: right;\">\n",
       "      <th></th>\n",
       "      <th>fixed acidity</th>\n",
       "      <th>volatile acidity</th>\n",
       "      <th>citric acid</th>\n",
       "      <th>residual sugar</th>\n",
       "      <th>chlorides</th>\n",
       "      <th>free sulfur dioxide</th>\n",
       "      <th>total sulfur dioxide</th>\n",
       "      <th>density</th>\n",
       "      <th>pH</th>\n",
       "      <th>sulphates</th>\n",
       "      <th>alcohol</th>\n",
       "      <th>quality</th>\n",
       "    </tr>\n",
       "  </thead>\n",
       "  <tbody>\n",
       "    <tr>\n",
       "      <th>0</th>\n",
       "      <td>7.4</td>\n",
       "      <td>0.70</td>\n",
       "      <td>0.00</td>\n",
       "      <td>1.9</td>\n",
       "      <td>0.076</td>\n",
       "      <td>11.0</td>\n",
       "      <td>34.0</td>\n",
       "      <td>0.9978</td>\n",
       "      <td>3.51</td>\n",
       "      <td>0.56</td>\n",
       "      <td>9.4</td>\n",
       "      <td>5</td>\n",
       "    </tr>\n",
       "    <tr>\n",
       "      <th>1</th>\n",
       "      <td>7.8</td>\n",
       "      <td>0.88</td>\n",
       "      <td>0.00</td>\n",
       "      <td>2.6</td>\n",
       "      <td>0.098</td>\n",
       "      <td>25.0</td>\n",
       "      <td>67.0</td>\n",
       "      <td>0.9968</td>\n",
       "      <td>3.20</td>\n",
       "      <td>0.68</td>\n",
       "      <td>9.8</td>\n",
       "      <td>5</td>\n",
       "    </tr>\n",
       "    <tr>\n",
       "      <th>2</th>\n",
       "      <td>7.8</td>\n",
       "      <td>0.76</td>\n",
       "      <td>0.04</td>\n",
       "      <td>2.3</td>\n",
       "      <td>0.092</td>\n",
       "      <td>15.0</td>\n",
       "      <td>54.0</td>\n",
       "      <td>0.9970</td>\n",
       "      <td>3.26</td>\n",
       "      <td>0.65</td>\n",
       "      <td>9.8</td>\n",
       "      <td>5</td>\n",
       "    </tr>\n",
       "    <tr>\n",
       "      <th>3</th>\n",
       "      <td>11.2</td>\n",
       "      <td>0.28</td>\n",
       "      <td>0.56</td>\n",
       "      <td>1.9</td>\n",
       "      <td>0.075</td>\n",
       "      <td>17.0</td>\n",
       "      <td>60.0</td>\n",
       "      <td>0.9980</td>\n",
       "      <td>3.16</td>\n",
       "      <td>0.58</td>\n",
       "      <td>9.8</td>\n",
       "      <td>6</td>\n",
       "    </tr>\n",
       "    <tr>\n",
       "      <th>4</th>\n",
       "      <td>7.4</td>\n",
       "      <td>0.70</td>\n",
       "      <td>0.00</td>\n",
       "      <td>1.9</td>\n",
       "      <td>0.076</td>\n",
       "      <td>11.0</td>\n",
       "      <td>34.0</td>\n",
       "      <td>0.9978</td>\n",
       "      <td>3.51</td>\n",
       "      <td>0.56</td>\n",
       "      <td>9.4</td>\n",
       "      <td>5</td>\n",
       "    </tr>\n",
       "  </tbody>\n",
       "</table>\n",
       "</div>"
      ],
      "text/plain": [
       "   fixed acidity  volatile acidity  citric acid  residual sugar  chlorides  \\\n",
       "0            7.4              0.70         0.00             1.9      0.076   \n",
       "1            7.8              0.88         0.00             2.6      0.098   \n",
       "2            7.8              0.76         0.04             2.3      0.092   \n",
       "3           11.2              0.28         0.56             1.9      0.075   \n",
       "4            7.4              0.70         0.00             1.9      0.076   \n",
       "\n",
       "   free sulfur dioxide  total sulfur dioxide  density    pH  sulphates  \\\n",
       "0                 11.0                  34.0   0.9978  3.51       0.56   \n",
       "1                 25.0                  67.0   0.9968  3.20       0.68   \n",
       "2                 15.0                  54.0   0.9970  3.26       0.65   \n",
       "3                 17.0                  60.0   0.9980  3.16       0.58   \n",
       "4                 11.0                  34.0   0.9978  3.51       0.56   \n",
       "\n",
       "   alcohol  quality  \n",
       "0      9.4        5  \n",
       "1      9.8        5  \n",
       "2      9.8        5  \n",
       "3      9.8        6  \n",
       "4      9.4        5  "
      ]
     },
     "execution_count": 3,
     "metadata": {},
     "output_type": "execute_result"
    }
   ],
   "source": [
    "# Realizamos un despliege corto de la data para verificar su contenido.\n",
    "wine.head(5)"
   ]
  },
  {
   "cell_type": "code",
   "execution_count": 4,
   "metadata": {},
   "outputs": [
    {
     "name": "stdout",
     "output_type": "stream",
     "text": [
      "<class 'pandas.core.frame.DataFrame'>\n",
      "RangeIndex: 1599 entries, 0 to 1598\n",
      "Data columns (total 12 columns):\n",
      " #   Column                Non-Null Count  Dtype  \n",
      "---  ------                --------------  -----  \n",
      " 0   fixed acidity         1599 non-null   float64\n",
      " 1   volatile acidity      1599 non-null   float64\n",
      " 2   citric acid           1599 non-null   float64\n",
      " 3   residual sugar        1599 non-null   float64\n",
      " 4   chlorides             1599 non-null   float64\n",
      " 5   free sulfur dioxide   1599 non-null   float64\n",
      " 6   total sulfur dioxide  1599 non-null   float64\n",
      " 7   density               1599 non-null   float64\n",
      " 8   pH                    1599 non-null   float64\n",
      " 9   sulphates             1599 non-null   float64\n",
      " 10  alcohol               1599 non-null   float64\n",
      " 11  quality               1599 non-null   int64  \n",
      "dtypes: float64(11), int64(1)\n",
      "memory usage: 150.0 KB\n"
     ]
    }
   ],
   "source": [
    "# Presentación de la información del conjunto de datos\n",
    "wine.info()"
   ]
  },
  {
   "cell_type": "markdown",
   "metadata": {},
   "source": [
    "Observamos que existe un total de 1599 registros, las variables independientes son tipo float (númerica decimal), y la variable dependiente es entero."
   ]
  },
  {
   "cell_type": "markdown",
   "metadata": {},
   "source": [
    "# 1. Descripción del dataset. ¿Por qué es importante y qué pregunta/problema pretende responder?\n",
    "\n",
    "El análisis estadístico de las propiedades fisicoquímicas del vino son importantes ya que puede determinarse que factor, variable o correlación inciden para que un vino sea considerado “bueno”.\t\n",
    "\t\n",
    "Es posible utilizar un modelo de regresión logística, estableciendo un límite arbitrario para la variable dependiente (calidad del vino) en, por ejemplo, 7 o más, clasificándose como 'bueno / 1' y el resto como 'no bueno / 0 '.\n",
    "\n",
    "Esto permitirá aplicar un ajuste de hiperparámetros como los algoritmos de árbol de decisión como la curva ROC y el valor AUC.\n",
    "\t\n",
    "El conjunto de datos contiene información de las variantes de vino rojo y blanco. Estas se encuentran definidas en las variables fisicoquímicas (variable independiente - entrada) y sensoriales (variable dependiente - salida).\n",
    "\n",
    "A continuación, se describen las variables de entrada y salida:\n",
    "\n",
    "* 1 - acidez fija\n",
    "* 2 - acidez volátil\n",
    "* 3 - ácido cítrico\n",
    "* 4 - azúcar residual\n",
    "* 5 - cloruros\n",
    "* 6 - dióxido de azufre libre\n",
    "* 7 - dióxido de azufre total\n",
    "* 8 - densidad\n",
    "* 9 - pH\n",
    "* 10 - sulfatos\n",
    "* 11 - alcohol\n",
    "\n",
    "La variable de salida (basada en datos sensoriales):\n",
    "\n",
    "* 12 - calidad (puntuación entre 0 y 10)"
   ]
  },
  {
   "cell_type": "markdown",
   "metadata": {},
   "source": [
    "# 2.\tIntegración y selección de los datos de interés a analizar."
   ]
  },
  {
   "cell_type": "markdown",
   "metadata": {},
   "source": [
    "Los atributos son variables numéricas que corresponden con características fisicoquímicas del vino, por lo cual es importante conservar todos estos atributos durante la realización en la etapa inicial de selección de datos. Durante esta primera parte del proceso es posible categorizar la variable dependiente de calidad del vino disminuyendo el número de categorías a 2, definiendo los valores mayores a 7 como vinos “buenos”.\n"
   ]
  },
  {
   "cell_type": "markdown",
   "metadata": {},
   "source": [
    "# 3. Limpieza de datos\n",
    "\n",
    "Se implementa la función \"limpieza\" en donde se eliminan valores nulos, además en esta sección se extraen las variables dependientes de la data. Debido a que el dataset no contiene datos nulos o vacíos, la función \"limpieza\" no realiza su cometido."
   ]
  },
  {
   "cell_type": "markdown",
   "metadata": {},
   "source": [
    "### 3.1. ¿Los datos contienen ceros o elementos vacíos? ¿Cómo gestionarías cada uno de estos casos?"
   ]
  },
  {
   "cell_type": "code",
   "execution_count": 5,
   "metadata": {},
   "outputs": [],
   "source": [
    "def limpieza(df):\n",
    "    df.dropna(inplace=True)\n",
    "    df = df.loc[:, [i for i in df.columns]]\n",
    "    indices_to_keep = ~df.isin([np.nan, np.inf, -np.inf]).any(1)\n",
    "    return df[indices_to_keep].astype(np.float64)\n",
    "\n",
    "wine_clean = limpieza(pd.DataFrame(data = wine, columns = list(wine.columns.values)))"
   ]
  },
  {
   "cell_type": "markdown",
   "metadata": {},
   "source": [
    "Realizamos una comprobación de datos perdidos para verificar el paso anterior."
   ]
  },
  {
   "cell_type": "code",
   "execution_count": 6,
   "metadata": {},
   "outputs": [
    {
     "data": {
      "text/plain": [
       "fixed acidity             0\n",
       "volatile acidity          0\n",
       "citric acid             132\n",
       "residual sugar            0\n",
       "chlorides                 0\n",
       "free sulfur dioxide       0\n",
       "total sulfur dioxide      0\n",
       "density                   0\n",
       "pH                        0\n",
       "sulphates                 0\n",
       "alcohol                   0\n",
       "quality                   0\n",
       "dtype: int64"
      ]
     },
     "execution_count": 6,
     "metadata": {},
     "output_type": "execute_result"
    }
   ],
   "source": [
    "wine_clean.isnull().sum() + wine_clean.eq('').sum() + wine_clean.eq(0).sum()"
   ]
  },
  {
   "cell_type": "markdown",
   "metadata": {},
   "source": [
    "Se aprecia que no existen valores perdidos. Esto se comprueba sumando los elementos Nulls + ceros + blancos. Podemos observar que existen valores 0 para el ácido cítrico, sin embargo, atribuimos ese dato a valores reales de alguna variedad de vino que no contiene esta propiedad."
   ]
  },
  {
   "cell_type": "markdown",
   "metadata": {},
   "source": [
    "### 3.2. Identificación y tratamiento de valores extremos."
   ]
  },
  {
   "cell_type": "markdown",
   "metadata": {},
   "source": [
    "Los valores extremos u outliers son aquellos cuyos valores sobrepasan un margen numérico al comparar con el resto de datos. A continuación se representan las variables mediante un boxplot para detectar qué valores distan mucho del rango intercuartílico. De esta forma se identificarán los valores atípicos para aquellas columnas que los contengan.\n",
    "\n",
    "Antes de proceder a identificar los valores extremos, realizamos un escalamiento de valores en el dataset."
   ]
  },
  {
   "cell_type": "code",
   "execution_count": 7,
   "metadata": {},
   "outputs": [
    {
     "data": {
      "text/html": [
       "<div>\n",
       "<style scoped>\n",
       "    .dataframe tbody tr th:only-of-type {\n",
       "        vertical-align: middle;\n",
       "    }\n",
       "\n",
       "    .dataframe tbody tr th {\n",
       "        vertical-align: top;\n",
       "    }\n",
       "\n",
       "    .dataframe thead th {\n",
       "        text-align: right;\n",
       "    }\n",
       "</style>\n",
       "<table border=\"1\" class=\"dataframe\">\n",
       "  <thead>\n",
       "    <tr style=\"text-align: right;\">\n",
       "      <th></th>\n",
       "      <th>fixed acidity</th>\n",
       "      <th>volatile acidity</th>\n",
       "      <th>citric acid</th>\n",
       "      <th>residual sugar</th>\n",
       "      <th>chlorides</th>\n",
       "      <th>free sulfur dioxide</th>\n",
       "      <th>total sulfur dioxide</th>\n",
       "      <th>density</th>\n",
       "      <th>pH</th>\n",
       "      <th>sulphates</th>\n",
       "      <th>alcohol</th>\n",
       "    </tr>\n",
       "  </thead>\n",
       "  <tbody>\n",
       "    <tr>\n",
       "      <th>count</th>\n",
       "      <td>1599.000000</td>\n",
       "      <td>1599.000000</td>\n",
       "      <td>1599.000000</td>\n",
       "      <td>1599.000000</td>\n",
       "      <td>1599.000000</td>\n",
       "      <td>1599.000000</td>\n",
       "      <td>1599.000000</td>\n",
       "      <td>1599.000000</td>\n",
       "      <td>1599.000000</td>\n",
       "      <td>1599.000000</td>\n",
       "      <td>1599.000000</td>\n",
       "    </tr>\n",
       "    <tr>\n",
       "      <th>mean</th>\n",
       "      <td>8.319637</td>\n",
       "      <td>0.527821</td>\n",
       "      <td>0.270976</td>\n",
       "      <td>2.538806</td>\n",
       "      <td>0.087467</td>\n",
       "      <td>15.874922</td>\n",
       "      <td>46.467792</td>\n",
       "      <td>0.996747</td>\n",
       "      <td>3.311113</td>\n",
       "      <td>0.658149</td>\n",
       "      <td>10.422983</td>\n",
       "    </tr>\n",
       "    <tr>\n",
       "      <th>std</th>\n",
       "      <td>1.741096</td>\n",
       "      <td>0.179060</td>\n",
       "      <td>0.194801</td>\n",
       "      <td>1.409928</td>\n",
       "      <td>0.047065</td>\n",
       "      <td>10.460157</td>\n",
       "      <td>32.895324</td>\n",
       "      <td>0.001887</td>\n",
       "      <td>0.154386</td>\n",
       "      <td>0.169507</td>\n",
       "      <td>1.065668</td>\n",
       "    </tr>\n",
       "    <tr>\n",
       "      <th>min</th>\n",
       "      <td>4.600000</td>\n",
       "      <td>0.120000</td>\n",
       "      <td>0.000000</td>\n",
       "      <td>0.900000</td>\n",
       "      <td>0.012000</td>\n",
       "      <td>1.000000</td>\n",
       "      <td>6.000000</td>\n",
       "      <td>0.990070</td>\n",
       "      <td>2.740000</td>\n",
       "      <td>0.330000</td>\n",
       "      <td>8.400000</td>\n",
       "    </tr>\n",
       "    <tr>\n",
       "      <th>25%</th>\n",
       "      <td>7.100000</td>\n",
       "      <td>0.390000</td>\n",
       "      <td>0.090000</td>\n",
       "      <td>1.900000</td>\n",
       "      <td>0.070000</td>\n",
       "      <td>7.000000</td>\n",
       "      <td>22.000000</td>\n",
       "      <td>0.995600</td>\n",
       "      <td>3.210000</td>\n",
       "      <td>0.550000</td>\n",
       "      <td>9.500000</td>\n",
       "    </tr>\n",
       "    <tr>\n",
       "      <th>50%</th>\n",
       "      <td>7.900000</td>\n",
       "      <td>0.520000</td>\n",
       "      <td>0.260000</td>\n",
       "      <td>2.200000</td>\n",
       "      <td>0.079000</td>\n",
       "      <td>14.000000</td>\n",
       "      <td>38.000000</td>\n",
       "      <td>0.996750</td>\n",
       "      <td>3.310000</td>\n",
       "      <td>0.620000</td>\n",
       "      <td>10.200000</td>\n",
       "    </tr>\n",
       "    <tr>\n",
       "      <th>75%</th>\n",
       "      <td>9.200000</td>\n",
       "      <td>0.640000</td>\n",
       "      <td>0.420000</td>\n",
       "      <td>2.600000</td>\n",
       "      <td>0.090000</td>\n",
       "      <td>21.000000</td>\n",
       "      <td>62.000000</td>\n",
       "      <td>0.997835</td>\n",
       "      <td>3.400000</td>\n",
       "      <td>0.730000</td>\n",
       "      <td>11.100000</td>\n",
       "    </tr>\n",
       "    <tr>\n",
       "      <th>max</th>\n",
       "      <td>15.900000</td>\n",
       "      <td>1.580000</td>\n",
       "      <td>1.000000</td>\n",
       "      <td>15.500000</td>\n",
       "      <td>0.611000</td>\n",
       "      <td>72.000000</td>\n",
       "      <td>289.000000</td>\n",
       "      <td>1.003690</td>\n",
       "      <td>4.010000</td>\n",
       "      <td>2.000000</td>\n",
       "      <td>14.900000</td>\n",
       "    </tr>\n",
       "  </tbody>\n",
       "</table>\n",
       "</div>"
      ],
      "text/plain": [
       "       fixed acidity  volatile acidity  citric acid  residual sugar  \\\n",
       "count    1599.000000       1599.000000  1599.000000     1599.000000   \n",
       "mean        8.319637          0.527821     0.270976        2.538806   \n",
       "std         1.741096          0.179060     0.194801        1.409928   \n",
       "min         4.600000          0.120000     0.000000        0.900000   \n",
       "25%         7.100000          0.390000     0.090000        1.900000   \n",
       "50%         7.900000          0.520000     0.260000        2.200000   \n",
       "75%         9.200000          0.640000     0.420000        2.600000   \n",
       "max        15.900000          1.580000     1.000000       15.500000   \n",
       "\n",
       "         chlorides  free sulfur dioxide  total sulfur dioxide      density  \\\n",
       "count  1599.000000          1599.000000           1599.000000  1599.000000   \n",
       "mean      0.087467            15.874922             46.467792     0.996747   \n",
       "std       0.047065            10.460157             32.895324     0.001887   \n",
       "min       0.012000             1.000000              6.000000     0.990070   \n",
       "25%       0.070000             7.000000             22.000000     0.995600   \n",
       "50%       0.079000            14.000000             38.000000     0.996750   \n",
       "75%       0.090000            21.000000             62.000000     0.997835   \n",
       "max       0.611000            72.000000            289.000000     1.003690   \n",
       "\n",
       "                pH    sulphates      alcohol  \n",
       "count  1599.000000  1599.000000  1599.000000  \n",
       "mean      3.311113     0.658149    10.422983  \n",
       "std       0.154386     0.169507     1.065668  \n",
       "min       2.740000     0.330000     8.400000  \n",
       "25%       3.210000     0.550000     9.500000  \n",
       "50%       3.310000     0.620000    10.200000  \n",
       "75%       3.400000     0.730000    11.100000  \n",
       "max       4.010000     2.000000    14.900000  "
      ]
     },
     "execution_count": 7,
     "metadata": {},
     "output_type": "execute_result"
    }
   ],
   "source": [
    "wine_clean_x = wine_clean.iloc[:,[i for i in range(len(wine_clean.columns) - 1)]]\n",
    "wine_clean_x.describe()"
   ]
  },
  {
   "cell_type": "markdown",
   "metadata": {},
   "source": [
    "El código anterior extrae la información de las columnas (variables independientes), luego muestra el resultado del dataset en forma de resumen mediante la función \"describe\"."
   ]
  },
  {
   "cell_type": "code",
   "execution_count": 8,
   "metadata": {},
   "outputs": [
    {
     "data": {
      "text/html": [
       "<div>\n",
       "<style scoped>\n",
       "    .dataframe tbody tr th:only-of-type {\n",
       "        vertical-align: middle;\n",
       "    }\n",
       "\n",
       "    .dataframe tbody tr th {\n",
       "        vertical-align: top;\n",
       "    }\n",
       "\n",
       "    .dataframe thead th {\n",
       "        text-align: right;\n",
       "    }\n",
       "</style>\n",
       "<table border=\"1\" class=\"dataframe\">\n",
       "  <thead>\n",
       "    <tr style=\"text-align: right;\">\n",
       "      <th></th>\n",
       "      <th>fixed acidity</th>\n",
       "      <th>volatile acidity</th>\n",
       "      <th>citric acid</th>\n",
       "      <th>residual sugar</th>\n",
       "      <th>chlorides</th>\n",
       "      <th>free sulfur dioxide</th>\n",
       "      <th>total sulfur dioxide</th>\n",
       "      <th>density</th>\n",
       "      <th>pH</th>\n",
       "      <th>sulphates</th>\n",
       "      <th>alcohol</th>\n",
       "    </tr>\n",
       "  </thead>\n",
       "  <tbody>\n",
       "    <tr>\n",
       "      <th>0</th>\n",
       "      <td>-0.528360</td>\n",
       "      <td>0.961877</td>\n",
       "      <td>-1.391472</td>\n",
       "      <td>-0.453218</td>\n",
       "      <td>-0.243707</td>\n",
       "      <td>-0.466193</td>\n",
       "      <td>-0.379133</td>\n",
       "      <td>0.558274</td>\n",
       "      <td>1.288643</td>\n",
       "      <td>-0.579207</td>\n",
       "      <td>-0.960246</td>\n",
       "    </tr>\n",
       "    <tr>\n",
       "      <th>1</th>\n",
       "      <td>-0.298547</td>\n",
       "      <td>1.967442</td>\n",
       "      <td>-1.391472</td>\n",
       "      <td>0.043416</td>\n",
       "      <td>0.223875</td>\n",
       "      <td>0.872638</td>\n",
       "      <td>0.624363</td>\n",
       "      <td>0.028261</td>\n",
       "      <td>-0.719933</td>\n",
       "      <td>0.128950</td>\n",
       "      <td>-0.584777</td>\n",
       "    </tr>\n",
       "    <tr>\n",
       "      <th>2</th>\n",
       "      <td>-0.298547</td>\n",
       "      <td>1.297065</td>\n",
       "      <td>-1.186070</td>\n",
       "      <td>-0.169427</td>\n",
       "      <td>0.096353</td>\n",
       "      <td>-0.083669</td>\n",
       "      <td>0.229047</td>\n",
       "      <td>0.134264</td>\n",
       "      <td>-0.331177</td>\n",
       "      <td>-0.048089</td>\n",
       "      <td>-0.584777</td>\n",
       "    </tr>\n",
       "    <tr>\n",
       "      <th>3</th>\n",
       "      <td>1.654856</td>\n",
       "      <td>-1.384443</td>\n",
       "      <td>1.484154</td>\n",
       "      <td>-0.453218</td>\n",
       "      <td>-0.264960</td>\n",
       "      <td>0.107592</td>\n",
       "      <td>0.411500</td>\n",
       "      <td>0.664277</td>\n",
       "      <td>-0.979104</td>\n",
       "      <td>-0.461180</td>\n",
       "      <td>-0.584777</td>\n",
       "    </tr>\n",
       "    <tr>\n",
       "      <th>4</th>\n",
       "      <td>-0.528360</td>\n",
       "      <td>0.961877</td>\n",
       "      <td>-1.391472</td>\n",
       "      <td>-0.453218</td>\n",
       "      <td>-0.243707</td>\n",
       "      <td>-0.466193</td>\n",
       "      <td>-0.379133</td>\n",
       "      <td>0.558274</td>\n",
       "      <td>1.288643</td>\n",
       "      <td>-0.579207</td>\n",
       "      <td>-0.960246</td>\n",
       "    </tr>\n",
       "  </tbody>\n",
       "</table>\n",
       "</div>"
      ],
      "text/plain": [
       "   fixed acidity  volatile acidity  citric acid  residual sugar  chlorides  \\\n",
       "0      -0.528360          0.961877    -1.391472       -0.453218  -0.243707   \n",
       "1      -0.298547          1.967442    -1.391472        0.043416   0.223875   \n",
       "2      -0.298547          1.297065    -1.186070       -0.169427   0.096353   \n",
       "3       1.654856         -1.384443     1.484154       -0.453218  -0.264960   \n",
       "4      -0.528360          0.961877    -1.391472       -0.453218  -0.243707   \n",
       "\n",
       "   free sulfur dioxide  total sulfur dioxide   density        pH  sulphates  \\\n",
       "0            -0.466193             -0.379133  0.558274  1.288643  -0.579207   \n",
       "1             0.872638              0.624363  0.028261 -0.719933   0.128950   \n",
       "2            -0.083669              0.229047  0.134264 -0.331177  -0.048089   \n",
       "3             0.107592              0.411500  0.664277 -0.979104  -0.461180   \n",
       "4            -0.466193             -0.379133  0.558274  1.288643  -0.579207   \n",
       "\n",
       "    alcohol  \n",
       "0 -0.960246  \n",
       "1 -0.584777  \n",
       "2 -0.584777  \n",
       "3 -0.584777  \n",
       "4 -0.960246  "
      ]
     },
     "execution_count": 8,
     "metadata": {},
     "output_type": "execute_result"
    }
   ],
   "source": [
    "escala_standar = preprocessing.StandardScaler()\n",
    "np_escalados = escala_standar.fit_transform(wine_clean_x)\n",
    "wine_clean_escal = pd.DataFrame(np_escalados, columns = [name for name in list(wine_clean_x)])\n",
    "wine_clean_escal.head()"
   ]
  },
  {
   "cell_type": "markdown",
   "metadata": {},
   "source": [
    "Presentamos la gráfica a partir del escalamiento de las variables obtenidas en el dataset wine_clen_escal"
   ]
  },
  {
   "cell_type": "code",
   "execution_count": 9,
   "metadata": {},
   "outputs": [
    {
     "data": {
      "text/plain": [
       "<AxesSubplot:>"
      ]
     },
     "execution_count": 9,
     "metadata": {},
     "output_type": "execute_result"
    },
    {
     "data": {
      "image/png": "[encoded data removed]",
      "text/plain": [
       "<Figure size 1440x720 with 1 Axes>"
      ]
     },
     "metadata": {
      "needs_background": "light"
     },
     "output_type": "display_data"
    }
   ],
   "source": [
    "fig = plt.figure(figsize = (20,10))\n",
    "wine_clean_escal.boxplot(column=[name for name in list(wine_clean_escal)], grid=False)"
   ]
  },
  {
   "cell_type": "markdown",
   "metadata": {},
   "source": [
    "Se observa en la representación anterior que las variables residuales sugar, chlorides, total sulfur y sulphates contienen datos lejanos u outliers, los mismos que pueden ser eliminados ya que puede atribuirse a un dato erróneo mal ingresado. Sin embargo, pueden presentarse casos en donde las propiedades fisicoquímicas exceden los valores normales debido al proceso de la fermentación del vino, además no se descarta que un vino de alta calidad pueda tener una composición muy rara con valores atipicos. Debido a esto los valores extremos no se los suprime en esta etapa."
   ]
  },
  {
   "cell_type": "markdown",
   "metadata": {},
   "source": [
    "# 4. Análisis de datos.\n",
    "\n",
    "Se aprecia que todos atributos son variables numéricas que corresponden con características fisicoquímicas del vino por lo cual sería importante conservar todos estos atributos durante la realización en la etapa inicial de selección de datos. Durante esta primera parte del proceso es posible categorizar la variable dependiente de calidad del vino disminuyendo el número de categorías a 2, definiendo los valores mayores a 7 como vinos “buenos”.\n",
    "\n",
    "En primer orden se realiza la selección las columnas que son consideradas variables independientes (causa) para identificar outliers o valores extremos."
   ]
  },
  {
   "cell_type": "markdown",
   "metadata": {},
   "source": [
    "### 4.1. Selección de los grupos de datos que se quieren analizar/comparar (planificación de los análisis a aplicar).\n",
    "\n",
    "Para poder identificar el grado de dependencia con la variable objetivo se realizará el respectivo análisis mediante un modelo de regresión lineal. En primer lugar, debemos conocer la correlación entre las distintas variables con la variable de resultado para identificar cuales tienen mayor influencia. \n"
   ]
  },
  {
   "cell_type": "markdown",
   "metadata": {},
   "source": [
    "La correlación es una técnica estadística para verificar la dependencia entre pares de variables. Se trazar un mapa de calor que se usa para indicar una relación predictiva. Cabe indicar que la correlación entre características no implica una relación causal. Es decir, el coeficiente de correlación en la misma variable es 1. En los demás casos, la correlación tiende a ser menor que 1. El coeficiente de correlación también puede tener una relación inversa, en ese caso el coeficiente de correlación tenderá ser igual a -1. Es decir, cuanto más cerca esté de +1 o -1, más estrechamente se relacionan las dos variables."
   ]
  },
  {
   "cell_type": "code",
   "execution_count": 10,
   "metadata": {},
   "outputs": [
    {
     "data": {
      "text/html": [
       "<div>\n",
       "<style scoped>\n",
       "    .dataframe tbody tr th:only-of-type {\n",
       "        vertical-align: middle;\n",
       "    }\n",
       "\n",
       "    .dataframe tbody tr th {\n",
       "        vertical-align: top;\n",
       "    }\n",
       "\n",
       "    .dataframe thead th {\n",
       "        text-align: right;\n",
       "    }\n",
       "</style>\n",
       "<table border=\"1\" class=\"dataframe\">\n",
       "  <thead>\n",
       "    <tr style=\"text-align: right;\">\n",
       "      <th></th>\n",
       "      <th>fixed acidity</th>\n",
       "      <th>volatile acidity</th>\n",
       "      <th>citric acid</th>\n",
       "      <th>residual sugar</th>\n",
       "      <th>chlorides</th>\n",
       "      <th>free sulfur dioxide</th>\n",
       "      <th>total sulfur dioxide</th>\n",
       "      <th>density</th>\n",
       "      <th>pH</th>\n",
       "      <th>sulphates</th>\n",
       "      <th>alcohol</th>\n",
       "      <th>quality</th>\n",
       "    </tr>\n",
       "  </thead>\n",
       "  <tbody>\n",
       "    <tr>\n",
       "      <th>0</th>\n",
       "      <td>7.4</td>\n",
       "      <td>0.70</td>\n",
       "      <td>0.00</td>\n",
       "      <td>1.9</td>\n",
       "      <td>0.076</td>\n",
       "      <td>11.0</td>\n",
       "      <td>34.0</td>\n",
       "      <td>0.9978</td>\n",
       "      <td>3.51</td>\n",
       "      <td>0.56</td>\n",
       "      <td>9.4</td>\n",
       "      <td>5.0</td>\n",
       "    </tr>\n",
       "    <tr>\n",
       "      <th>1</th>\n",
       "      <td>7.8</td>\n",
       "      <td>0.88</td>\n",
       "      <td>0.00</td>\n",
       "      <td>2.6</td>\n",
       "      <td>0.098</td>\n",
       "      <td>25.0</td>\n",
       "      <td>67.0</td>\n",
       "      <td>0.9968</td>\n",
       "      <td>3.20</td>\n",
       "      <td>0.68</td>\n",
       "      <td>9.8</td>\n",
       "      <td>5.0</td>\n",
       "    </tr>\n",
       "    <tr>\n",
       "      <th>2</th>\n",
       "      <td>7.8</td>\n",
       "      <td>0.76</td>\n",
       "      <td>0.04</td>\n",
       "      <td>2.3</td>\n",
       "      <td>0.092</td>\n",
       "      <td>15.0</td>\n",
       "      <td>54.0</td>\n",
       "      <td>0.9970</td>\n",
       "      <td>3.26</td>\n",
       "      <td>0.65</td>\n",
       "      <td>9.8</td>\n",
       "      <td>5.0</td>\n",
       "    </tr>\n",
       "    <tr>\n",
       "      <th>3</th>\n",
       "      <td>11.2</td>\n",
       "      <td>0.28</td>\n",
       "      <td>0.56</td>\n",
       "      <td>1.9</td>\n",
       "      <td>0.075</td>\n",
       "      <td>17.0</td>\n",
       "      <td>60.0</td>\n",
       "      <td>0.9980</td>\n",
       "      <td>3.16</td>\n",
       "      <td>0.58</td>\n",
       "      <td>9.8</td>\n",
       "      <td>6.0</td>\n",
       "    </tr>\n",
       "    <tr>\n",
       "      <th>4</th>\n",
       "      <td>7.4</td>\n",
       "      <td>0.70</td>\n",
       "      <td>0.00</td>\n",
       "      <td>1.9</td>\n",
       "      <td>0.076</td>\n",
       "      <td>11.0</td>\n",
       "      <td>34.0</td>\n",
       "      <td>0.9978</td>\n",
       "      <td>3.51</td>\n",
       "      <td>0.56</td>\n",
       "      <td>9.4</td>\n",
       "      <td>5.0</td>\n",
       "    </tr>\n",
       "  </tbody>\n",
       "</table>\n",
       "</div>"
      ],
      "text/plain": [
       "   fixed acidity  volatile acidity  citric acid  residual sugar  chlorides  \\\n",
       "0            7.4              0.70         0.00             1.9      0.076   \n",
       "1            7.8              0.88         0.00             2.6      0.098   \n",
       "2            7.8              0.76         0.04             2.3      0.092   \n",
       "3           11.2              0.28         0.56             1.9      0.075   \n",
       "4            7.4              0.70         0.00             1.9      0.076   \n",
       "\n",
       "   free sulfur dioxide  total sulfur dioxide  density    pH  sulphates  \\\n",
       "0                 11.0                  34.0   0.9978  3.51       0.56   \n",
       "1                 25.0                  67.0   0.9968  3.20       0.68   \n",
       "2                 15.0                  54.0   0.9970  3.26       0.65   \n",
       "3                 17.0                  60.0   0.9980  3.16       0.58   \n",
       "4                 11.0                  34.0   0.9978  3.51       0.56   \n",
       "\n",
       "   alcohol  quality  \n",
       "0      9.4      5.0  \n",
       "1      9.8      5.0  \n",
       "2      9.8      5.0  \n",
       "3      9.8      6.0  \n",
       "4      9.4      5.0  "
      ]
     },
     "execution_count": 10,
     "metadata": {},
     "output_type": "execute_result"
    }
   ],
   "source": [
    "wine_clean.head()"
   ]
  },
  {
   "cell_type": "markdown",
   "metadata": {},
   "source": [
    "Podemos apreciar que la variable quality es tipo float. Con la finalidad de ayudar en visualización de gráficas, convertimos esta columna en entero."
   ]
  },
  {
   "cell_type": "code",
   "execution_count": 11,
   "metadata": {},
   "outputs": [
    {
     "data": {
      "text/html": [
       "<div>\n",
       "<style scoped>\n",
       "    .dataframe tbody tr th:only-of-type {\n",
       "        vertical-align: middle;\n",
       "    }\n",
       "\n",
       "    .dataframe tbody tr th {\n",
       "        vertical-align: top;\n",
       "    }\n",
       "\n",
       "    .dataframe thead th {\n",
       "        text-align: right;\n",
       "    }\n",
       "</style>\n",
       "<table border=\"1\" class=\"dataframe\">\n",
       "  <thead>\n",
       "    <tr style=\"text-align: right;\">\n",
       "      <th></th>\n",
       "      <th>fixed acidity</th>\n",
       "      <th>volatile acidity</th>\n",
       "      <th>citric acid</th>\n",
       "      <th>residual sugar</th>\n",
       "      <th>chlorides</th>\n",
       "      <th>free sulfur dioxide</th>\n",
       "      <th>total sulfur dioxide</th>\n",
       "      <th>density</th>\n",
       "      <th>pH</th>\n",
       "      <th>sulphates</th>\n",
       "      <th>alcohol</th>\n",
       "      <th>quality</th>\n",
       "    </tr>\n",
       "  </thead>\n",
       "  <tbody>\n",
       "    <tr>\n",
       "      <th>0</th>\n",
       "      <td>7.4</td>\n",
       "      <td>0.70</td>\n",
       "      <td>0.00</td>\n",
       "      <td>1.9</td>\n",
       "      <td>0.076</td>\n",
       "      <td>11.0</td>\n",
       "      <td>34.0</td>\n",
       "      <td>0.9978</td>\n",
       "      <td>3.51</td>\n",
       "      <td>0.56</td>\n",
       "      <td>9.4</td>\n",
       "      <td>5</td>\n",
       "    </tr>\n",
       "    <tr>\n",
       "      <th>1</th>\n",
       "      <td>7.8</td>\n",
       "      <td>0.88</td>\n",
       "      <td>0.00</td>\n",
       "      <td>2.6</td>\n",
       "      <td>0.098</td>\n",
       "      <td>25.0</td>\n",
       "      <td>67.0</td>\n",
       "      <td>0.9968</td>\n",
       "      <td>3.20</td>\n",
       "      <td>0.68</td>\n",
       "      <td>9.8</td>\n",
       "      <td>5</td>\n",
       "    </tr>\n",
       "    <tr>\n",
       "      <th>2</th>\n",
       "      <td>7.8</td>\n",
       "      <td>0.76</td>\n",
       "      <td>0.04</td>\n",
       "      <td>2.3</td>\n",
       "      <td>0.092</td>\n",
       "      <td>15.0</td>\n",
       "      <td>54.0</td>\n",
       "      <td>0.9970</td>\n",
       "      <td>3.26</td>\n",
       "      <td>0.65</td>\n",
       "      <td>9.8</td>\n",
       "      <td>5</td>\n",
       "    </tr>\n",
       "    <tr>\n",
       "      <th>3</th>\n",
       "      <td>11.2</td>\n",
       "      <td>0.28</td>\n",
       "      <td>0.56</td>\n",
       "      <td>1.9</td>\n",
       "      <td>0.075</td>\n",
       "      <td>17.0</td>\n",
       "      <td>60.0</td>\n",
       "      <td>0.9980</td>\n",
       "      <td>3.16</td>\n",
       "      <td>0.58</td>\n",
       "      <td>9.8</td>\n",
       "      <td>6</td>\n",
       "    </tr>\n",
       "    <tr>\n",
       "      <th>4</th>\n",
       "      <td>7.4</td>\n",
       "      <td>0.70</td>\n",
       "      <td>0.00</td>\n",
       "      <td>1.9</td>\n",
       "      <td>0.076</td>\n",
       "      <td>11.0</td>\n",
       "      <td>34.0</td>\n",
       "      <td>0.9978</td>\n",
       "      <td>3.51</td>\n",
       "      <td>0.56</td>\n",
       "      <td>9.4</td>\n",
       "      <td>5</td>\n",
       "    </tr>\n",
       "  </tbody>\n",
       "</table>\n",
       "</div>"
      ],
      "text/plain": [
       "   fixed acidity  volatile acidity  citric acid  residual sugar  chlorides  \\\n",
       "0            7.4              0.70         0.00             1.9      0.076   \n",
       "1            7.8              0.88         0.00             2.6      0.098   \n",
       "2            7.8              0.76         0.04             2.3      0.092   \n",
       "3           11.2              0.28         0.56             1.9      0.075   \n",
       "4            7.4              0.70         0.00             1.9      0.076   \n",
       "\n",
       "   free sulfur dioxide  total sulfur dioxide  density    pH  sulphates  \\\n",
       "0                 11.0                  34.0   0.9978  3.51       0.56   \n",
       "1                 25.0                  67.0   0.9968  3.20       0.68   \n",
       "2                 15.0                  54.0   0.9970  3.26       0.65   \n",
       "3                 17.0                  60.0   0.9980  3.16       0.58   \n",
       "4                 11.0                  34.0   0.9978  3.51       0.56   \n",
       "\n",
       "   alcohol  quality  \n",
       "0      9.4        5  \n",
       "1      9.8        5  \n",
       "2      9.8        5  \n",
       "3      9.8        6  \n",
       "4      9.4        5  "
      ]
     },
     "execution_count": 11,
     "metadata": {},
     "output_type": "execute_result"
    }
   ],
   "source": [
    "wine_clean['quality'] = wine_clean['quality'].astype(int)\n",
    "wine_clean.head()"
   ]
  },
  {
   "cell_type": "code",
   "execution_count": 12,
   "metadata": {},
   "outputs": [
    {
     "name": "stdout",
     "output_type": "stream",
     "text": [
      "quality                 1.000000\n",
      "alcohol                 0.476166\n",
      "sulphates               0.251397\n",
      "citric acid             0.226373\n",
      "fixed acidity           0.124052\n",
      "residual sugar          0.013732\n",
      "free sulfur dioxide    -0.050656\n",
      "pH                     -0.057731\n",
      "chlorides              -0.128907\n",
      "density                -0.174919\n",
      "total sulfur dioxide   -0.185100\n",
      "volatile acidity       -0.390558\n",
      "Name: quality, dtype: float64\n"
     ]
    }
   ],
   "source": [
    "#Calcula y ordena las correlaciones\n",
    "matrizCorr = wine_clean.corr()['quality'].sort_values(ascending=False)\n",
    "print(matrizCorr)"
   ]
  },
  {
   "cell_type": "code",
   "execution_count": 13,
   "metadata": {},
   "outputs": [
    {
     "data": {
      "text/plain": [
       "<AxesSubplot:>"
      ]
     },
     "execution_count": 13,
     "metadata": {},
     "output_type": "execute_result"
    },
    {
     "data": {
      "image/png": "[encoded data removed]",
      "text/plain": [
       "<Figure size 432x288 with 1 Axes>"
      ]
     },
     "metadata": {
      "needs_background": "light"
     },
     "output_type": "display_data"
    }
   ],
   "source": [
    "matrizCorr.plot(kind='bar')"
   ]
  },
  {
   "cell_type": "code",
   "execution_count": 14,
   "metadata": {},
   "outputs": [
    {
     "name": "stdout",
     "output_type": "stream",
     "text": [
      "quality                  True\n",
      "alcohol                  True\n",
      "sulphates                True\n",
      "citric acid              True\n",
      "fixed acidity           False\n",
      "residual sugar          False\n",
      "free sulfur dioxide     False\n",
      "pH                      False\n",
      "chlorides               False\n",
      "density                 False\n",
      "total sulfur dioxide    False\n",
      "volatile acidity         True\n",
      "Name: quality, dtype: bool\n"
     ]
    }
   ],
   "source": [
    "print(abs(matrizCorr) > 0.2)"
   ]
  },
  {
   "cell_type": "markdown",
   "metadata": {},
   "source": [
    "De todos los valores, estamos seleccionando el alcohol, sulfatos, citric_acid y volatile_acidity con el fin de estudiar mejor y ver la distribución de los valores que separan las diferentes cualidades."
   ]
  },
  {
   "cell_type": "markdown",
   "metadata": {},
   "source": [
    "### Porcentaje de Alcohol."
   ]
  },
  {
   "cell_type": "code",
   "execution_count": 15,
   "metadata": {},
   "outputs": [
    {
     "data": {
      "text/plain": [
       "[Text(0.5, 1.0, 'Porcentaje de Alcohol en diferentes calidades de vino.')]"
      ]
     },
     "execution_count": 15,
     "metadata": {},
     "output_type": "execute_result"
    },
    {
     "data": {
      "image/png": "[encoded data removed]",
      "text/plain": [
       "<Figure size 432x288 with 1 Axes>"
      ]
     },
     "metadata": {
      "needs_background": "light"
     },
     "output_type": "display_data"
    }
   ],
   "source": [
    "bp = sns.boxplot(x='quality',y='alcohol', data=wine_clean)\n",
    "bp.set(title=\"Porcentaje de Alcohol en diferentes calidades de vino.\")"
   ]
  },
  {
   "cell_type": "markdown",
   "metadata": {},
   "source": [
    "En la gráfica anterior podemos ver que los vinos que contienen menos alcohol parecen estar obteniendo peores calificaciones, mientras que los que tienen un porcentaje de alcohol más alto obtienen mejores calificaciones de calidad. Sin embargo, podemos observar cómo los vinos de \"calidad media\" con calificación 5 o 6 están presentando unos valores extraños.\n",
    "\n",
    "Para ver por qué tenemos estos valores diferentes, vamos a seleccionar un subconjunto del conjunto de datos que solo contendrá filas cuyo valor de columna de calidad sea 5 o 6, y calcularemos los coeficientes de correlación para este subconjunto."
   ]
  },
  {
   "cell_type": "code",
   "execution_count": 16,
   "metadata": {},
   "outputs": [
    {
     "data": {
      "text/plain": [
       "5    681\n",
       "6    638\n",
       "Name: quality, dtype: int64"
      ]
     },
     "execution_count": 16,
     "metadata": {},
     "output_type": "execute_result"
    }
   ],
   "source": [
    "wine_clean_5_6 = wine_clean.loc[(wine_clean['quality'] >= 5) & (wine_clean['quality'] <= 6)]\n",
    "wine_clean_5_6['quality'].value_counts()"
   ]
  },
  {
   "cell_type": "code",
   "execution_count": 17,
   "metadata": {},
   "outputs": [
    {
     "name": "stdout",
     "output_type": "stream",
     "text": [
      "quality                 1.000000\n",
      "alcohol                 0.375224\n",
      "sulphates               0.162405\n",
      "citric acid             0.080146\n",
      "fixed acidity           0.053447\n",
      "pH                      0.043065\n",
      "residual sugar         -0.018452\n",
      "free sulfur dioxide    -0.060618\n",
      "chlorides              -0.081813\n",
      "density                -0.134559\n",
      "volatile acidity       -0.237193\n",
      "total sulfur dioxide   -0.239067\n",
      "Name: quality, dtype: float64\n"
     ]
    }
   ],
   "source": [
    "correlations_subset = wine_clean_5_6.corr()['quality'].sort_values(ascending=False)\n",
    "print(correlations_subset)"
   ]
  },
  {
   "cell_type": "markdown",
   "metadata": {},
   "source": [
    "Luego de calcular las correlaciones para vinos con calidad de 5 y 6 se encuentra que las características que más se correlacionan siguen siendo las mismas de antes. Entonces la diferencia de valores que se muestra en la gráfica de caja se puede explicar debido a que existe (aunque es la más alta) una mala correlación de calidad.\n",
    "\n",
    "De todas estas características seleccionamos las que tengan mayor número ya que son las que nos darán más información. Para ello vamos a establecer un umbral mínimo de correlación en torno a 0,2 (valor absoluto) ya que no tenemos que tener en cuenta características cuyos valores pueden ser redundantes y no aportar información alguna."
   ]
  },
  {
   "cell_type": "markdown",
   "metadata": {},
   "source": [
    "### Presencia de sulfatos y ácido cítrico."
   ]
  },
  {
   "cell_type": "code",
   "execution_count": 18,
   "metadata": {},
   "outputs": [
    {
     "data": {
      "text/plain": [
       "[Text(0.5, 1.0, 'Sulfatos en diferentes calidades de vino.')]"
      ]
     },
     "execution_count": 18,
     "metadata": {},
     "output_type": "execute_result"
    },
    {
     "data": {
      "image/png": "[encoded data removed]",
      "text/plain": [
       "<Figure size 432x288 with 1 Axes>"
      ]
     },
     "metadata": {
      "needs_background": "light"
     },
     "output_type": "display_data"
    }
   ],
   "source": [
    "bp = sns.boxplot(x='quality',y='sulphates', data=wine_clean)\n",
    "bp.set(title=\"Sulfatos en diferentes calidades de vino.\")"
   ]
  },
  {
   "cell_type": "code",
   "execution_count": 19,
   "metadata": {},
   "outputs": [
    {
     "data": {
      "text/plain": [
       "[Text(0.5, 1.0, 'Acido citrico en diferentes calidades de vino.')]"
      ]
     },
     "execution_count": 19,
     "metadata": {},
     "output_type": "execute_result"
    },
    {
     "data": {
      "image/png": "[encoded data removed]",
      "text/plain": [
       "<Figure size 432x288 with 1 Axes>"
      ]
     },
     "metadata": {
      "needs_background": "light"
     },
     "output_type": "display_data"
    }
   ],
   "source": [
    "bp = sns.boxplot(x='quality',y='citric acid', data=wine_clean)\n",
    "bp.set(title=\"Acido citrico en diferentes calidades de vino.\")"
   ]
  },
  {
   "cell_type": "markdown",
   "metadata": {},
   "source": [
    "La relación entre \"sulfatos\" y \"ácido_cítrico\" con la calidad parece ser linealmente positiva, comprobando que los coeficientes de correlación calculados con anterioridad eran correctos. Es decir al parecer aumenta la calidad de los vinos cuando las cantidades de sulfatos y ácido cítrico son cada vez mas altas."
   ]
  },
  {
   "cell_type": "markdown",
   "metadata": {},
   "source": [
    "### Presencia de ácido acético."
   ]
  },
  {
   "cell_type": "code",
   "execution_count": 20,
   "metadata": {},
   "outputs": [
    {
     "data": {
      "text/plain": [
       "[Text(0.5, 1.0, 'Presencia de ácido acético en diferentes calidades del vino')]"
      ]
     },
     "execution_count": 20,
     "metadata": {},
     "output_type": "execute_result"
    },
    {
     "data": {
      "image/png": "[encoded data removed]",
      "text/plain": [
       "<Figure size 432x288 with 1 Axes>"
      ]
     },
     "metadata": {
      "needs_background": "light"
     },
     "output_type": "display_data"
    }
   ],
   "source": [
    "bp = sns.boxplot(x='quality',y='volatile acidity', data=wine_clean)\n",
    "bp.set(title=\"Presencia de ácido acético en diferentes calidades del vino\")"
   ]
  },
  {
   "cell_type": "markdown",
   "metadata": {},
   "source": [
    "Se puede observar que una menor presencia de ácido acético en el vino parece aumentar su calidad. \n",
    "\n",
    "Una vez estudiado el conjunto de datos a través de diferentes gráficos, seleccionamos las características que usaremos en los diferentes algoritmos. Utilizaremos las mismas columnas que estudiamos en la seccipon anterior, ya que son las variables que más información nos dan entre características y calidad."
   ]
  },
  {
   "cell_type": "code",
   "execution_count": 21,
   "metadata": {},
   "outputs": [
    {
     "data": {
      "text/html": [
       "<div>\n",
       "<style scoped>\n",
       "    .dataframe tbody tr th:only-of-type {\n",
       "        vertical-align: middle;\n",
       "    }\n",
       "\n",
       "    .dataframe tbody tr th {\n",
       "        vertical-align: top;\n",
       "    }\n",
       "\n",
       "    .dataframe thead th {\n",
       "        text-align: right;\n",
       "    }\n",
       "</style>\n",
       "<table border=\"1\" class=\"dataframe\">\n",
       "  <thead>\n",
       "    <tr style=\"text-align: right;\">\n",
       "      <th></th>\n",
       "      <th>alcohol</th>\n",
       "      <th>volatile acidity</th>\n",
       "      <th>citric acid</th>\n",
       "      <th>sulphates</th>\n",
       "      <th>quality</th>\n",
       "    </tr>\n",
       "  </thead>\n",
       "  <tbody>\n",
       "    <tr>\n",
       "      <th>0</th>\n",
       "      <td>9.4</td>\n",
       "      <td>0.70</td>\n",
       "      <td>0.00</td>\n",
       "      <td>0.56</td>\n",
       "      <td>5</td>\n",
       "    </tr>\n",
       "    <tr>\n",
       "      <th>1</th>\n",
       "      <td>9.8</td>\n",
       "      <td>0.88</td>\n",
       "      <td>0.00</td>\n",
       "      <td>0.68</td>\n",
       "      <td>5</td>\n",
       "    </tr>\n",
       "    <tr>\n",
       "      <th>2</th>\n",
       "      <td>9.8</td>\n",
       "      <td>0.76</td>\n",
       "      <td>0.04</td>\n",
       "      <td>0.65</td>\n",
       "      <td>5</td>\n",
       "    </tr>\n",
       "    <tr>\n",
       "      <th>3</th>\n",
       "      <td>9.8</td>\n",
       "      <td>0.28</td>\n",
       "      <td>0.56</td>\n",
       "      <td>0.58</td>\n",
       "      <td>6</td>\n",
       "    </tr>\n",
       "    <tr>\n",
       "      <th>4</th>\n",
       "      <td>9.4</td>\n",
       "      <td>0.70</td>\n",
       "      <td>0.00</td>\n",
       "      <td>0.56</td>\n",
       "      <td>5</td>\n",
       "    </tr>\n",
       "  </tbody>\n",
       "</table>\n",
       "</div>"
      ],
      "text/plain": [
       "   alcohol  volatile acidity  citric acid  sulphates  quality\n",
       "0      9.4              0.70         0.00       0.56        5\n",
       "1      9.8              0.88         0.00       0.68        5\n",
       "2      9.8              0.76         0.04       0.65        5\n",
       "3      9.8              0.28         0.56       0.58        6\n",
       "4      9.4              0.70         0.00       0.56        5"
      ]
     },
     "execution_count": 21,
     "metadata": {},
     "output_type": "execute_result"
    }
   ],
   "source": [
    "wine_clean_sel = wine_clean[['alcohol','volatile acidity','citric acid','sulphates','quality']]\n",
    "wine_clean_sel.head()"
   ]
  },
  {
   "cell_type": "markdown",
   "metadata": {},
   "source": [
    "## 4.2. Comprobación de la normalidad y homogeneidad de la varianza."
   ]
  },
  {
   "cell_type": "markdown",
   "metadata": {},
   "source": [
    "### 4.2.1 Normalidad.\n",
    "\n",
    "La prueba shapiro-wilk es una prueba de normalidad. Se utiliza para determinar si una muestra procede o no de una\n",
    "distribución normal. Se utiliza la función scipy.stats.shapiro() en python para realizar una prueba de Shapiro. \n",
    "Esta función devuelve una estadística de prueba y su valor p correspondiente. Si el valor p está por debajo de un cierto nivel\n",
    "de significancia, entonces tenemos suficiente evidencia para decir que los datos de la muestra no provienen de una\n",
    "distribución normal.\n",
    "\n",
    "Se espera tener un valor p mayor que el valor de significancia (es decir, 0.05) para que no se rechace la hipótesis nula. "
   ]
  },
  {
   "cell_type": "code",
   "execution_count": 22,
   "metadata": {},
   "outputs": [],
   "source": [
    "from scipy.stats import shapiro"
   ]
  },
  {
   "cell_type": "code",
   "execution_count": 23,
   "metadata": {},
   "outputs": [
    {
     "data": {
      "text/plain": [
       "Index(['alcohol', 'volatile acidity', 'citric acid', 'sulphates'], dtype='object')"
      ]
     },
     "execution_count": 23,
     "metadata": {},
     "output_type": "execute_result"
    }
   ],
   "source": [
    "cols = wine_clean_sel.columns\n",
    "cols[:-1]"
   ]
  },
  {
   "cell_type": "code",
   "execution_count": 24,
   "metadata": {},
   "outputs": [
    {
     "name": "stdout",
     "output_type": "stream",
     "text": [
      "alcohol\n"
     ]
    },
    {
     "name": "stderr",
     "output_type": "stream",
     "text": [
      "/home/jorge/.local/lib/python3.8/site-packages/seaborn/distributions.py:2619: FutureWarning: `distplot` is a deprecated function and will be removed in a future version. Please adapt your code to use either `displot` (a figure-level function with similar flexibility) or `histplot` (an axes-level function for histograms).\n",
      "  warnings.warn(msg, FutureWarning)\n"
     ]
    },
    {
     "data": {
      "image/png": "[encoded data removed]",
      "text/plain": [
       "<Figure size 432x288 with 1 Axes>"
      ]
     },
     "metadata": {
      "needs_background": "light"
     },
     "output_type": "display_data"
    },
    {
     "name": "stderr",
     "output_type": "stream",
     "text": [
      "/home/jorge/.local/lib/python3.8/site-packages/seaborn/distributions.py:2619: FutureWarning: `distplot` is a deprecated function and will be removed in a future version. Please adapt your code to use either `displot` (a figure-level function with similar flexibility) or `histplot` (an axes-level function for histograms).\n",
      "  warnings.warn(msg, FutureWarning)\n"
     ]
    },
    {
     "name": "stdout",
     "output_type": "stream",
     "text": [
      "Test Estadístico Shapiro : 0.9288 , pvalue : 0.00000000000000000000\n",
      "No es una distribución normal pvalue < 0.05\n",
      "****************************************************************************************************\n",
      "volatile acidity\n"
     ]
    },
    {
     "data": {
      "image/png": "[encoded data removed]",
      "text/plain": [
       "<Figure size 432x288 with 1 Axes>"
      ]
     },
     "metadata": {
      "needs_background": "light"
     },
     "output_type": "display_data"
    },
    {
     "name": "stdout",
     "output_type": "stream",
     "text": [
      "Test Estadístico Shapiro : 0.9743 , pvalue : 0.00000000000000026868\n",
      "No es una distribución normal pvalue < 0.05\n",
      "****************************************************************************************************\n",
      "citric acid\n"
     ]
    },
    {
     "name": "stderr",
     "output_type": "stream",
     "text": [
      "/home/jorge/.local/lib/python3.8/site-packages/seaborn/distributions.py:2619: FutureWarning: `distplot` is a deprecated function and will be removed in a future version. Please adapt your code to use either `displot` (a figure-level function with similar flexibility) or `histplot` (an axes-level function for histograms).\n",
      "  warnings.warn(msg, FutureWarning)\n"
     ]
    },
    {
     "data": {
      "image/png": "[encoded data removed]",
      "text/plain": [
       "<Figure size 432x288 with 1 Axes>"
      ]
     },
     "metadata": {
      "needs_background": "light"
     },
     "output_type": "display_data"
    },
    {
     "name": "stdout",
     "output_type": "stream",
     "text": [
      "Test Estadístico Shapiro : 0.9553 , pvalue : 0.00000000000000000000\n",
      "No es una distribución normal pvalue < 0.05\n",
      "****************************************************************************************************\n",
      "sulphates\n"
     ]
    },
    {
     "name": "stderr",
     "output_type": "stream",
     "text": [
      "/home/jorge/.local/lib/python3.8/site-packages/seaborn/distributions.py:2619: FutureWarning: `distplot` is a deprecated function and will be removed in a future version. Please adapt your code to use either `displot` (a figure-level function with similar flexibility) or `histplot` (an axes-level function for histograms).\n",
      "  warnings.warn(msg, FutureWarning)\n"
     ]
    },
    {
     "data": {
      "image/png": "[encoded data removed]",
      "text/plain": [
       "<Figure size 432x288 with 1 Axes>"
      ]
     },
     "metadata": {
      "needs_background": "light"
     },
     "output_type": "display_data"
    },
    {
     "name": "stdout",
     "output_type": "stream",
     "text": [
      "Test Estadístico Shapiro : 0.8330 , pvalue : 0.00000000000000000000\n",
      "No es una distribución normal pvalue < 0.05\n",
      "****************************************************************************************************\n"
     ]
    }
   ],
   "source": [
    "for i in list(cols[:-1]):\n",
    "    print(i)\n",
    "    sns.distplot(wine_clean_sel[i] , color = \"b\" , bins = 60 , hist_kws = {\"alpha\" : 0.4})\n",
    "    plt.show()\n",
    "\n",
    "    test_statistic , pvalue = shapiro(wine_clean_sel[i]) \n",
    "    print(\"Test Estadístico Shapiro : %.4f , pvalue : %.20f\" % (test_statistic , pvalue))\n",
    "    if pvalue > 0.05:\n",
    "        print('Es una distribución normal pvalue > 0.05')\n",
    "    else:\n",
    "        print('No es una distribución normal pvalue < 0.05')\n",
    "\n",
    "    print(\"*\"*100)"
   ]
  },
  {
   "cell_type": "markdown",
   "metadata": {},
   "source": [
    "Podemos observar que los conjutnos de datos no son normales, aunque gráficamente parecen serlo debido al gran tamaño de la muestra. Debido a esto el tamaño de pvalue es tan pequeño y no llega a 0.05. "
   ]
  },
  {
   "cell_type": "markdown",
   "metadata": {},
   "source": [
    "### 4.2.1 Homogeneidad de la varianza.\n",
    "\n",
    "Separamos en dos conjuntos de datos la calidad del vino >= 7 buen vino con valor de 1, y menor a 7 con valor de 0."
   ]
  },
  {
   "cell_type": "code",
   "execution_count": 25,
   "metadata": {},
   "outputs": [
    {
     "name": "stderr",
     "output_type": "stream",
     "text": [
      "<ipython-input-25-29de1df08bbb>:1: SettingWithCopyWarning: \n",
      "A value is trying to be set on a copy of a slice from a DataFrame.\n",
      "Try using .loc[row_indexer,col_indexer] = value instead\n",
      "\n",
      "See the caveats in the documentation: https://pandas.pydata.org/pandas-docs/stable/user_guide/indexing.html#returning-a-view-versus-a-copy\n",
      "  wine_clean_sel['best_quality'] = [ 1 if x>=7 else 0 for x in wine_clean_sel.quality];\n"
     ]
    },
    {
     "data": {
      "text/html": [
       "<div>\n",
       "<style scoped>\n",
       "    .dataframe tbody tr th:only-of-type {\n",
       "        vertical-align: middle;\n",
       "    }\n",
       "\n",
       "    .dataframe tbody tr th {\n",
       "        vertical-align: top;\n",
       "    }\n",
       "\n",
       "    .dataframe thead th {\n",
       "        text-align: right;\n",
       "    }\n",
       "</style>\n",
       "<table border=\"1\" class=\"dataframe\">\n",
       "  <thead>\n",
       "    <tr style=\"text-align: right;\">\n",
       "      <th></th>\n",
       "      <th>alcohol</th>\n",
       "      <th>volatile acidity</th>\n",
       "      <th>citric acid</th>\n",
       "      <th>sulphates</th>\n",
       "      <th>quality</th>\n",
       "      <th>best_quality</th>\n",
       "    </tr>\n",
       "  </thead>\n",
       "  <tbody>\n",
       "    <tr>\n",
       "      <th>0</th>\n",
       "      <td>9.4</td>\n",
       "      <td>0.70</td>\n",
       "      <td>0.00</td>\n",
       "      <td>0.56</td>\n",
       "      <td>5</td>\n",
       "      <td>0</td>\n",
       "    </tr>\n",
       "    <tr>\n",
       "      <th>1</th>\n",
       "      <td>9.8</td>\n",
       "      <td>0.88</td>\n",
       "      <td>0.00</td>\n",
       "      <td>0.68</td>\n",
       "      <td>5</td>\n",
       "      <td>0</td>\n",
       "    </tr>\n",
       "    <tr>\n",
       "      <th>2</th>\n",
       "      <td>9.8</td>\n",
       "      <td>0.76</td>\n",
       "      <td>0.04</td>\n",
       "      <td>0.65</td>\n",
       "      <td>5</td>\n",
       "      <td>0</td>\n",
       "    </tr>\n",
       "    <tr>\n",
       "      <th>3</th>\n",
       "      <td>9.8</td>\n",
       "      <td>0.28</td>\n",
       "      <td>0.56</td>\n",
       "      <td>0.58</td>\n",
       "      <td>6</td>\n",
       "      <td>0</td>\n",
       "    </tr>\n",
       "    <tr>\n",
       "      <th>4</th>\n",
       "      <td>9.4</td>\n",
       "      <td>0.70</td>\n",
       "      <td>0.00</td>\n",
       "      <td>0.56</td>\n",
       "      <td>5</td>\n",
       "      <td>0</td>\n",
       "    </tr>\n",
       "  </tbody>\n",
       "</table>\n",
       "</div>"
      ],
      "text/plain": [
       "   alcohol  volatile acidity  citric acid  sulphates  quality  best_quality\n",
       "0      9.4              0.70         0.00       0.56        5             0\n",
       "1      9.8              0.88         0.00       0.68        5             0\n",
       "2      9.8              0.76         0.04       0.65        5             0\n",
       "3      9.8              0.28         0.56       0.58        6             0\n",
       "4      9.4              0.70         0.00       0.56        5             0"
      ]
     },
     "execution_count": 25,
     "metadata": {},
     "output_type": "execute_result"
    }
   ],
   "source": [
    "wine_clean_sel['best_quality'] = [ 1 if x>=7 else 0 for x in wine_clean_sel.quality]; \n",
    "wine_clean_sel.head()\n"
   ]
  },
  {
   "cell_type": "code",
   "execution_count": 26,
   "metadata": {},
   "outputs": [
    {
     "data": {
      "text/html": [
       "<div>\n",
       "<style scoped>\n",
       "    .dataframe tbody tr th:only-of-type {\n",
       "        vertical-align: middle;\n",
       "    }\n",
       "\n",
       "    .dataframe tbody tr th {\n",
       "        vertical-align: top;\n",
       "    }\n",
       "\n",
       "    .dataframe thead th {\n",
       "        text-align: right;\n",
       "    }\n",
       "</style>\n",
       "<table border=\"1\" class=\"dataframe\">\n",
       "  <thead>\n",
       "    <tr style=\"text-align: right;\">\n",
       "      <th></th>\n",
       "      <th>alcohol</th>\n",
       "      <th>volatile acidity</th>\n",
       "      <th>citric acid</th>\n",
       "      <th>sulphates</th>\n",
       "      <th>quality</th>\n",
       "      <th>best_quality</th>\n",
       "    </tr>\n",
       "  </thead>\n",
       "  <tbody>\n",
       "    <tr>\n",
       "      <th>0</th>\n",
       "      <td>9.4</td>\n",
       "      <td>0.700</td>\n",
       "      <td>0.00</td>\n",
       "      <td>0.56</td>\n",
       "      <td>5</td>\n",
       "      <td>0</td>\n",
       "    </tr>\n",
       "    <tr>\n",
       "      <th>1</th>\n",
       "      <td>9.8</td>\n",
       "      <td>0.880</td>\n",
       "      <td>0.00</td>\n",
       "      <td>0.68</td>\n",
       "      <td>5</td>\n",
       "      <td>0</td>\n",
       "    </tr>\n",
       "    <tr>\n",
       "      <th>2</th>\n",
       "      <td>9.8</td>\n",
       "      <td>0.760</td>\n",
       "      <td>0.04</td>\n",
       "      <td>0.65</td>\n",
       "      <td>5</td>\n",
       "      <td>0</td>\n",
       "    </tr>\n",
       "    <tr>\n",
       "      <th>3</th>\n",
       "      <td>9.8</td>\n",
       "      <td>0.280</td>\n",
       "      <td>0.56</td>\n",
       "      <td>0.58</td>\n",
       "      <td>6</td>\n",
       "      <td>0</td>\n",
       "    </tr>\n",
       "    <tr>\n",
       "      <th>4</th>\n",
       "      <td>9.4</td>\n",
       "      <td>0.700</td>\n",
       "      <td>0.00</td>\n",
       "      <td>0.56</td>\n",
       "      <td>5</td>\n",
       "      <td>0</td>\n",
       "    </tr>\n",
       "    <tr>\n",
       "      <th>...</th>\n",
       "      <td>...</td>\n",
       "      <td>...</td>\n",
       "      <td>...</td>\n",
       "      <td>...</td>\n",
       "      <td>...</td>\n",
       "      <td>...</td>\n",
       "    </tr>\n",
       "    <tr>\n",
       "      <th>1594</th>\n",
       "      <td>10.5</td>\n",
       "      <td>0.600</td>\n",
       "      <td>0.08</td>\n",
       "      <td>0.58</td>\n",
       "      <td>5</td>\n",
       "      <td>0</td>\n",
       "    </tr>\n",
       "    <tr>\n",
       "      <th>1595</th>\n",
       "      <td>11.2</td>\n",
       "      <td>0.550</td>\n",
       "      <td>0.10</td>\n",
       "      <td>0.76</td>\n",
       "      <td>6</td>\n",
       "      <td>0</td>\n",
       "    </tr>\n",
       "    <tr>\n",
       "      <th>1596</th>\n",
       "      <td>11.0</td>\n",
       "      <td>0.510</td>\n",
       "      <td>0.13</td>\n",
       "      <td>0.75</td>\n",
       "      <td>6</td>\n",
       "      <td>0</td>\n",
       "    </tr>\n",
       "    <tr>\n",
       "      <th>1597</th>\n",
       "      <td>10.2</td>\n",
       "      <td>0.645</td>\n",
       "      <td>0.12</td>\n",
       "      <td>0.71</td>\n",
       "      <td>5</td>\n",
       "      <td>0</td>\n",
       "    </tr>\n",
       "    <tr>\n",
       "      <th>1598</th>\n",
       "      <td>11.0</td>\n",
       "      <td>0.310</td>\n",
       "      <td>0.47</td>\n",
       "      <td>0.66</td>\n",
       "      <td>6</td>\n",
       "      <td>0</td>\n",
       "    </tr>\n",
       "  </tbody>\n",
       "</table>\n",
       "<p>1599 rows × 6 columns</p>\n",
       "</div>"
      ],
      "text/plain": [
       "      alcohol  volatile acidity  citric acid  sulphates  quality  best_quality\n",
       "0         9.4             0.700         0.00       0.56        5             0\n",
       "1         9.8             0.880         0.00       0.68        5             0\n",
       "2         9.8             0.760         0.04       0.65        5             0\n",
       "3         9.8             0.280         0.56       0.58        6             0\n",
       "4         9.4             0.700         0.00       0.56        5             0\n",
       "...       ...               ...          ...        ...      ...           ...\n",
       "1594     10.5             0.600         0.08       0.58        5             0\n",
       "1595     11.2             0.550         0.10       0.76        6             0\n",
       "1596     11.0             0.510         0.13       0.75        6             0\n",
       "1597     10.2             0.645         0.12       0.71        5             0\n",
       "1598     11.0             0.310         0.47       0.66        6             0\n",
       "\n",
       "[1599 rows x 6 columns]"
      ]
     },
     "execution_count": 26,
     "metadata": {},
     "output_type": "execute_result"
    }
   ],
   "source": [
    "wine_clean_sel"
   ]
  },
  {
   "cell_type": "markdown",
   "metadata": {},
   "source": [
    "Agrupamos las variables segun la calidad del vino."
   ]
  },
  {
   "cell_type": "code",
   "execution_count": 27,
   "metadata": {},
   "outputs": [],
   "source": [
    "alcohol_good = wine_clean_sel.loc[wine_clean_sel.best_quality == 1, 'alcohol']\n",
    "alcohol_bad = wine_clean_sel.loc[wine_clean_sel.best_quality == 0, 'alcohol']\n",
    "\n",
    "volatile_good = wine_clean_sel.loc[wine_clean_sel.best_quality == 1, 'volatile acidity']\n",
    "volatile_bad = wine_clean_sel.loc[wine_clean_sel.best_quality == 0, 'volatile acidity']\n",
    "\n",
    "citric_good = wine_clean_sel.loc[wine_clean_sel.best_quality == 1, 'citric acid']\n",
    "citric_bad = wine_clean_sel.loc[wine_clean_sel.best_quality == 0, 'citric acid']\n",
    "\n",
    "sulphates_good = wine_clean_sel.loc[wine_clean_sel.best_quality == 1, 'sulphates']\n",
    "sulphates_bad = wine_clean_sel.loc[wine_clean_sel.best_quality == 0, 'sulphates']"
   ]
  },
  {
   "cell_type": "markdown",
   "metadata": {},
   "source": [
    "#### 4.2.1.a Método de contraste de hipótesis.\n",
    "\n",
    "La homogeneidad de la varianza conocida como \"supuesto de homocedasticidad\" podemos verificarlo mediente los tests de Levene, Bartlett o Fligner-Killeen que son empleados generalmente para comparar la varianza entre grupos. Estos test indican que la hipótesis nula consiste en que ambas varianzas son iguales o constantes (no varía) en los diferentes niveles de un factor. Esta condición de homocedasticidad también hace referencia a los errores (residuos) en los modelos de regresión lineal. Si el p-value es menor que un determinado valor (típicamente 0.05), entonces se considera que hay evidencias suficientes para rechazar la homocedasticidad en favor de la heterocedasticidad\n",
    "\n",
    "El test de Levene y el test de Fligner-Killeen (este último no paramétrico) son más robustos que el test de Bartlett ante la  falta de normalidad, por lo que suele desaconsejarse su uso. El test de Levene y Bartlett permiten elegir diferentes datos estadísticos centrales como: mediana, media, media truncada siendo importante a la hora de contrastar la homocedasticidad dependiendo de si los grupos se distribuyen de forma normal o no.\n",
    "\n",
    "Si se tiene seguridad de que las muestras a comparar proceden de poblaciones que siguen una distribución normal, es\n",
    "recomendable el test de Bartlett. De lo contrario se recomienda los tests de Leven el de Fligner-Killeen que se basan en la mediana."
   ]
  },
  {
   "cell_type": "code",
   "execution_count": 28,
   "metadata": {},
   "outputs": [],
   "source": [
    "from scipy.stats import fligner\n",
    "from scipy.stats import levene\n",
    "from scipy.stats import bartlett"
   ]
  },
  {
   "cell_type": "code",
   "execution_count": 29,
   "metadata": {},
   "outputs": [],
   "source": [
    "# Levene test\n",
    "# ==============================================================================\n",
    "lt_alcohol = levene(alcohol_good, alcohol_bad, center='median')\n",
    "lt_volatile = levene(volatile_good, volatile_bad, center='median')\n",
    "lt_citric = levene(citric_good, citric_bad, center='median')\n",
    "lt_sulphates = levene(sulphates_good, sulphates_bad, center='median')\n"
   ]
  },
  {
   "cell_type": "code",
   "execution_count": 30,
   "metadata": {},
   "outputs": [
    {
     "data": {
      "text/plain": [
       "LeveneResult(statistic=1.4506052991623122, pvalue=0.2286093177882187)"
      ]
     },
     "execution_count": 30,
     "metadata": {},
     "output_type": "execute_result"
    }
   ],
   "source": [
    "lt_alcohol"
   ]
  },
  {
   "cell_type": "code",
   "execution_count": 31,
   "metadata": {},
   "outputs": [
    {
     "data": {
      "text/plain": [
       "LeveneResult(statistic=1.0565894298700909, pvalue=0.3041500057401553)"
      ]
     },
     "execution_count": 31,
     "metadata": {},
     "output_type": "execute_result"
    }
   ],
   "source": [
    "lt_citric"
   ]
  },
  {
   "cell_type": "code",
   "execution_count": 32,
   "metadata": {},
   "outputs": [
    {
     "data": {
      "text/plain": [
       "LeveneResult(statistic=12.95372692624227, pvalue=0.0003290322779476845)"
      ]
     },
     "execution_count": 32,
     "metadata": {},
     "output_type": "execute_result"
    }
   ],
   "source": [
    "lt_volatile"
   ]
  },
  {
   "cell_type": "code",
   "execution_count": 33,
   "metadata": {},
   "outputs": [
    {
     "data": {
      "text/plain": [
       "LeveneResult(statistic=0.7069295576826025, pvalue=0.40059087951099637)"
      ]
     },
     "execution_count": 33,
     "metadata": {},
     "output_type": "execute_result"
    }
   ],
   "source": [
    "lt_sulphates"
   ]
  },
  {
   "cell_type": "markdown",
   "metadata": {},
   "source": [
    "Ninguno de los test muestra evidencias para rechazar la hipótesis de que los dos grupos tienen la misma varianza, homocedasticidad. p-value >>>> 0.05, a excepción del acido cítrico"
   ]
  },
  {
   "cell_type": "markdown",
   "metadata": {},
   "source": [
    "#### 4.2.1.b Métodos gráficos.\n",
    "\n",
    "Los métodos gráficos tambien se utilizan para analizar la homocedasticidad, estos consisten en presentar los datos mediante boxplots o violinplot, ya que permiten comparar la dispersión de los grupos."
   ]
  },
  {
   "cell_type": "code",
   "execution_count": 34,
   "metadata": {},
   "outputs": [
    {
     "data": {
      "image/png": "[encoded data removed]",
      "text/plain": [
       "<Figure size 504x252 with 1 Axes>"
      ]
     },
     "metadata": {
      "needs_background": "light"
     },
     "output_type": "display_data"
    }
   ],
   "source": [
    "# Grafico de cajas\n",
    "# ==============================================================================\n",
    "fig, ax = plt.subplots(nrows=1, ncols=1, figsize=(7, 3.5))\n",
    "sns.boxplot(\n",
    "    x       = 'best_quality',\n",
    "    y       = 'alcohol',\n",
    "    data    = wine_clean_sel,\n",
    "    palette = 'tab10',\n",
    "    ax      = ax\n",
    ")\n",
    "ax.set_title('Distribución de calidad por grados de alcohol')\n",
    "ax.set_xlabel('Calidad(1=Calidad Alta 0=Calidad Media)')\n",
    "ax.set_ylabel('Alcohol');"
   ]
  },
  {
   "cell_type": "code",
   "execution_count": 35,
   "metadata": {},
   "outputs": [
    {
     "data": {
      "image/png": "[encoded data removed]",
      "text/plain": [
       "<Figure size 504x252 with 1 Axes>"
      ]
     },
     "metadata": {
      "needs_background": "light"
     },
     "output_type": "display_data"
    }
   ],
   "source": [
    "fig, ax = plt.subplots(nrows=1, ncols=1, figsize=(7, 3.5))\n",
    "sns.boxplot(\n",
    "    x       = 'best_quality',\n",
    "    y       = 'volatile acidity',\n",
    "    data    = wine_clean_sel,\n",
    "    palette = 'tab10',\n",
    "    ax      = ax\n",
    ")\n",
    "ax.set_title('Distribución de calidad por volatile acidity')\n",
    "ax.set_xlabel('Calidad(1=Calidad Alta 0=Calidad Media)')\n",
    "ax.set_ylabel('volatile acidity');"
   ]
  },
  {
   "cell_type": "code",
   "execution_count": 36,
   "metadata": {},
   "outputs": [
    {
     "data": {
      "image/png": "[encoded data removed]",
      "text/plain": [
       "<Figure size 504x252 with 1 Axes>"
      ]
     },
     "metadata": {
      "needs_background": "light"
     },
     "output_type": "display_data"
    }
   ],
   "source": [
    "fig, ax = plt.subplots(nrows=1, ncols=1, figsize=(7, 3.5))\n",
    "sns.boxplot(\n",
    "    x       = 'best_quality',\n",
    "    y       = 'citric acid',\n",
    "    data    = wine_clean_sel,\n",
    "    palette = 'tab10',\n",
    "    ax      = ax\n",
    ")\n",
    "ax.set_title('Distribución de calidad por citric acid')\n",
    "ax.set_xlabel('Calidad(1=Calidad Alta 0=Calidad Media)')\n",
    "ax.set_ylabel('citric acid');"
   ]
  },
  {
   "cell_type": "code",
   "execution_count": 37,
   "metadata": {},
   "outputs": [
    {
     "data": {
      "image/png": "[encoded data removed]",
      "text/plain": [
       "<Figure size 504x252 with 1 Axes>"
      ]
     },
     "metadata": {
      "needs_background": "light"
     },
     "output_type": "display_data"
    }
   ],
   "source": [
    "fig, ax = plt.subplots(nrows=1, ncols=1, figsize=(7, 3.5))\n",
    "sns.boxplot(\n",
    "    x       = 'best_quality',\n",
    "    y       = 'sulphates',\n",
    "    data    = wine_clean_sel,\n",
    "    palette = 'tab10',\n",
    "    ax      = ax\n",
    ")\n",
    "ax.set_title('Distribución de calidad por sulphates')\n",
    "ax.set_xlabel('Calidad(1=Calidad Alta 0=Calidad Media)')\n",
    "ax.set_ylabel('sulphates');"
   ]
  },
  {
   "cell_type": "markdown",
   "metadata": {},
   "source": [
    "## 4.3.\tAplicación de pruebas estadísticas para comparar los grupos de datos. \n",
    "\n",
    "En función de los datos y el objetivo del estudio, aplicar pruebas de contraste de hipótesis, correlaciones, regresiones, etc. Aplicar al menos tres métodos de análisis diferentes.\n",
    "\n",
    "### 4.3.1 Matriz de correlación (en forma de mapa de calor)."
   ]
  },
  {
   "cell_type": "code",
   "execution_count": 38,
   "metadata": {},
   "outputs": [
    {
     "data": {
      "image/png": "[encoded data removed]",
      "text/plain": [
       "<Figure size 720x720 with 2 Axes>"
      ]
     },
     "metadata": {
      "needs_background": "light"
     },
     "output_type": "display_data"
    }
   ],
   "source": [
    "matrizCorr = wine_clean.corr()\n",
    "fig = plt.subplots(figsize=(10,10))\n",
    "sns.heatmap(matrizCorr, vmax=1, square=True,annot=True, cmap=\"Reds\")\n",
    "plt.show()"
   ]
  },
  {
   "cell_type": "markdown",
   "metadata": {},
   "source": [
    "Podemos observar algunas correlaciones de características como el pH y la acidez. Aparte de eso se aprecia que aproximadamente la mitad de estas características se correlacionan positivamente con la calidad mientras que la otra mitad correlacionan negativamente.\n",
    "\n",
    "El mapa de calor muestra las correlaciones entre las variables, vemos que la diagonal esta altamente relacionada y esto es\n",
    "lógico ya que todas las variables están correlacionadas consigo misma, entre más oscuro es este recuadro donde coinciden dos\n",
    "variables significa que hay una fuerte correlación positiva, y entre mas claro indica que hay una correlación a la inversa.\n",
    "\n"
   ]
  },
  {
   "cell_type": "code",
   "execution_count": 39,
   "metadata": {},
   "outputs": [
    {
     "data": {
      "image/png": "[encoded data removed]",
      "text/plain": [
       "<Figure size 1440x1440 with 12 Axes>"
      ]
     },
     "metadata": {
      "needs_background": "light"
     },
     "output_type": "display_data"
    }
   ],
   "source": [
    "wine_clean.hist(bins = 30, figsize=(20,20), color = 'r')\n",
    "plt.show()\n"
   ]
  },
  {
   "cell_type": "markdown",
   "metadata": {},
   "source": [
    "Regresión lineal con statsmodel"
   ]
  },
  {
   "cell_type": "markdown",
   "metadata": {},
   "source": [
    "## Construcción de un modelo lineal"
   ]
  },
  {
   "cell_type": "code",
   "execution_count": 40,
   "metadata": {},
   "outputs": [
    {
     "name": "stdout",
     "output_type": "stream",
     "text": [
      "fixed acidity           0.124052\n",
      "volatile acidity       -0.390558\n",
      "citric acid             0.226373\n",
      "residual sugar          0.013732\n",
      "chlorides              -0.128907\n",
      "free sulfur dioxide    -0.050656\n",
      "total sulfur dioxide   -0.185100\n",
      "density                -0.174919\n",
      "pH                     -0.057731\n",
      "sulphates               0.251397\n",
      "alcohol                 0.476166\n",
      "Name: quality, dtype: float64\n"
     ]
    }
   ],
   "source": [
    "from sklearn.model_selection import train_test_split\n",
    "from sklearn.linear_model import LinearRegression\n",
    "from sklearn import metrics\n",
    "\n",
    "correlations = wine_clean.corr()[\"quality\"].drop(\"quality\")\n",
    "print(correlations)"
   ]
  },
  {
   "cell_type": "code",
   "execution_count": 41,
   "metadata": {},
   "outputs": [],
   "source": [
    "def get_features(correlation_threshold):\n",
    "    max_corrs = correlations.abs()\n",
    "    high_correaltions = max_corrs\n",
    "    high_correaltions =  max_corrs[max_corrs > correlation_threshold].index.values.tolist()\n",
    "\n",
    "    return high_correaltions"
   ]
  },
  {
   "cell_type": "code",
   "execution_count": 42,
   "metadata": {},
   "outputs": [
    {
     "name": "stdout",
     "output_type": "stream",
     "text": [
      "['fixed acidity', 'volatile acidity', 'citric acid', 'chlorides', 'total sulfur dioxide', 'density', 'sulphates', 'alcohol']\n"
     ]
    }
   ],
   "source": [
    "features = get_features(0.1)\n",
    "print(features)"
   ]
  },
  {
   "cell_type": "code",
   "execution_count": 43,
   "metadata": {},
   "outputs": [
    {
     "data": {
      "text/html": [
       "<div>\n",
       "<style scoped>\n",
       "    .dataframe tbody tr th:only-of-type {\n",
       "        vertical-align: middle;\n",
       "    }\n",
       "\n",
       "    .dataframe tbody tr th {\n",
       "        vertical-align: top;\n",
       "    }\n",
       "\n",
       "    .dataframe thead th {\n",
       "        text-align: right;\n",
       "    }\n",
       "</style>\n",
       "<table border=\"1\" class=\"dataframe\">\n",
       "  <thead>\n",
       "    <tr style=\"text-align: right;\">\n",
       "      <th></th>\n",
       "      <th>fixed acidity</th>\n",
       "      <th>volatile acidity</th>\n",
       "      <th>citric acid</th>\n",
       "      <th>chlorides</th>\n",
       "      <th>total sulfur dioxide</th>\n",
       "      <th>density</th>\n",
       "      <th>sulphates</th>\n",
       "      <th>alcohol</th>\n",
       "    </tr>\n",
       "  </thead>\n",
       "  <tbody>\n",
       "    <tr>\n",
       "      <th>0</th>\n",
       "      <td>7.4</td>\n",
       "      <td>0.70</td>\n",
       "      <td>0.00</td>\n",
       "      <td>0.076</td>\n",
       "      <td>34.0</td>\n",
       "      <td>0.9978</td>\n",
       "      <td>0.56</td>\n",
       "      <td>9.4</td>\n",
       "    </tr>\n",
       "    <tr>\n",
       "      <th>1</th>\n",
       "      <td>7.8</td>\n",
       "      <td>0.88</td>\n",
       "      <td>0.00</td>\n",
       "      <td>0.098</td>\n",
       "      <td>67.0</td>\n",
       "      <td>0.9968</td>\n",
       "      <td>0.68</td>\n",
       "      <td>9.8</td>\n",
       "    </tr>\n",
       "    <tr>\n",
       "      <th>2</th>\n",
       "      <td>7.8</td>\n",
       "      <td>0.76</td>\n",
       "      <td>0.04</td>\n",
       "      <td>0.092</td>\n",
       "      <td>54.0</td>\n",
       "      <td>0.9970</td>\n",
       "      <td>0.65</td>\n",
       "      <td>9.8</td>\n",
       "    </tr>\n",
       "    <tr>\n",
       "      <th>3</th>\n",
       "      <td>11.2</td>\n",
       "      <td>0.28</td>\n",
       "      <td>0.56</td>\n",
       "      <td>0.075</td>\n",
       "      <td>60.0</td>\n",
       "      <td>0.9980</td>\n",
       "      <td>0.58</td>\n",
       "      <td>9.8</td>\n",
       "    </tr>\n",
       "    <tr>\n",
       "      <th>4</th>\n",
       "      <td>7.4</td>\n",
       "      <td>0.70</td>\n",
       "      <td>0.00</td>\n",
       "      <td>0.076</td>\n",
       "      <td>34.0</td>\n",
       "      <td>0.9978</td>\n",
       "      <td>0.56</td>\n",
       "      <td>9.4</td>\n",
       "    </tr>\n",
       "  </tbody>\n",
       "</table>\n",
       "</div>"
      ],
      "text/plain": [
       "   fixed acidity  volatile acidity  citric acid  chlorides  \\\n",
       "0            7.4              0.70         0.00      0.076   \n",
       "1            7.8              0.88         0.00      0.098   \n",
       "2            7.8              0.76         0.04      0.092   \n",
       "3           11.2              0.28         0.56      0.075   \n",
       "4            7.4              0.70         0.00      0.076   \n",
       "\n",
       "   total sulfur dioxide  density  sulphates  alcohol  \n",
       "0                  34.0   0.9978       0.56      9.4  \n",
       "1                  67.0   0.9968       0.68      9.8  \n",
       "2                  54.0   0.9970       0.65      9.8  \n",
       "3                  60.0   0.9980       0.58      9.8  \n",
       "4                  34.0   0.9978       0.56      9.4  "
      ]
     },
     "execution_count": 43,
     "metadata": {},
     "output_type": "execute_result"
    }
   ],
   "source": [
    "X = wine_clean[features]\n",
    "y = wine_clean['quality'] \n",
    "X.head()"
   ]
  },
  {
   "cell_type": "code",
   "execution_count": 44,
   "metadata": {},
   "outputs": [
    {
     "data": {
      "text/plain": [
       "0    5\n",
       "1    5\n",
       "2    5\n",
       "3    6\n",
       "4    5\n",
       "Name: quality, dtype: int64"
      ]
     },
     "execution_count": 44,
     "metadata": {},
     "output_type": "execute_result"
    }
   ],
   "source": [
    "y.head()"
   ]
  },
  {
   "cell_type": "code",
   "execution_count": 45,
   "metadata": {},
   "outputs": [],
   "source": [
    "X_train, X_test, y_train, y_test = train_test_split(X, y, test_size=0.3,random_state=0)"
   ]
  },
  {
   "cell_type": "code",
   "execution_count": 46,
   "metadata": {},
   "outputs": [
    {
     "name": "stdout",
     "output_type": "stream",
     "text": [
      "[ 4.54102614e-02 -1.24989230e+00 -8.39356452e-02 -1.62706838e+00\n",
      " -2.10542489e-03 -1.92332269e+01  8.48272019e-01  2.61573503e-01]\n"
     ]
    }
   ],
   "source": [
    "lr = LinearRegression()\n",
    "lr.fit(X_train, y_train)\n",
    "\n",
    "print(lr.coef_)"
   ]
  },
  {
   "cell_type": "code",
   "execution_count": 47,
   "metadata": {},
   "outputs": [
    {
     "name": "stdout",
     "output_type": "stream",
     "text": [
      "[6.44699101 6.53963514 5.33697491 ... 5.31319313 6.43831685 4.50615713]\n"
     ]
    }
   ],
   "source": [
    "train_pred = lr.predict(X_train)\n",
    "print(train_pred)"
   ]
  },
  {
   "cell_type": "code",
   "execution_count": 48,
   "metadata": {},
   "outputs": [
    {
     "name": "stdout",
     "output_type": "stream",
     "text": [
      "[5.80940115 5.00303269 6.58515976 5.37310421 5.98555971 5.04338722\n",
      " 5.36334414 6.08637524 4.85333247 4.9618068  5.33412225 5.42085155\n",
      " 5.73081615 5.13990618 5.51788349 6.34268413 6.80434987 5.77369428\n",
      " 5.98145048 5.07460175 6.25812873 5.25397497 5.64835583 5.92820722\n",
      " 5.5783665  5.03812036 5.24045845 6.46272639 5.34993558 6.3759156\n",
      " 6.07662188 5.85535736 5.57762302 5.34665947 5.690327   6.24051928\n",
      " 5.20795208 5.56402085 6.4031938  5.77849424 5.45134281 5.96104695\n",
      " 6.60299062 6.58517869 5.98934955 4.70927029 5.46950708 6.01920686\n",
      " 5.60703804 6.1422741  5.37614237 5.35345173 5.61293137 6.43831685\n",
      " 5.79131383 5.27663875 5.14637622 5.29493236 6.52716038 5.47103051\n",
      " 5.26981099 5.74349778 6.0069021  6.31914348 5.13639465 6.10522136\n",
      " 5.32427792 5.98409572 6.14449304 5.95060824 5.31884989 5.48086565\n",
      " 5.06863927 5.50681805 5.61089165 6.24161359 5.41920642 5.37757256\n",
      " 5.67798968 6.2674796  5.75504974 5.33482054 5.94769837 6.09976097\n",
      " 5.47431412 5.35922065 6.09313623 5.1250936  5.39079819 4.98375521\n",
      " 5.21512381 5.25924569 5.8612856  5.41058453 6.24621493 5.31884989\n",
      " 6.26749934 5.45408363 5.43974098 5.93609829 6.77680993 6.03614905\n",
      " 5.73756536 6.32968293 5.65013724 5.01703365 5.65013724 5.39065011\n",
      " 5.98054074 5.2714131  5.8647684  5.07977748 6.21015784 4.85582206\n",
      " 5.57623351 5.80838096 5.66339827 6.3794611  5.75456371 5.64835583\n",
      " 5.18142696 5.88046272 5.44903845 5.15494814 6.12683033 6.3333882\n",
      " 5.38443559 5.51287566 6.09680841 6.39906515 5.46860554 5.22053963\n",
      " 6.01163047 5.79696149 6.36459825 5.36353665 5.94032948 5.28938303\n",
      " 6.08546775 5.32826797 5.93889549 5.1064246  5.46950708 5.37937482\n",
      " 5.57957979 5.83623663 6.21015784 6.47619479 6.18870365 5.33844638\n",
      " 5.94999313 5.9944821  5.39065011 5.50531177 5.61348117 5.38539723\n",
      " 5.20475433 5.38504334 6.17886484 6.08406775 5.9328247  5.60322633\n",
      " 6.35069622 5.19705782 5.95600459 4.98759194 5.95648516 6.50981342\n",
      " 5.48307304 5.98517852 5.98777672 5.526339   5.06349355 6.60438537\n",
      " 5.6853664  6.23367786 6.0547722  6.81800673 6.1222352  4.86830389\n",
      " 5.03155244 6.94364035 5.47820635 6.17008788 6.7616125  5.03197719\n",
      " 5.60542596 5.73756536 5.00233958 6.13990398 6.0584535  5.85658979\n",
      " 5.22712147 5.50055822 5.28848322 5.19352146 5.33412225 5.16279908\n",
      " 5.25640798 5.05773956 5.25908025 6.13516015 5.18851393 5.32724947\n",
      " 5.35177312 5.06723439 5.07667482 6.33925482 6.10667584 5.46207021\n",
      " 6.00002675 6.1640253  5.36308298 6.40132411 5.05486163 5.47310949\n",
      " 5.92845493 6.02741209 5.54515621 5.00233765 5.09740443 5.95880711\n",
      " 6.33034065 5.75732256 5.44901358 6.03419053 6.36399991 5.83255615\n",
      " 4.9081706  5.47492049 5.11713484 5.90507407 5.05890429 5.85530801\n",
      " 6.2469618  5.59622047 6.13188398 6.60412668 6.51468024 6.15250585\n",
      " 5.39101634 4.97881038 5.03778914 5.12315099 5.9527555  4.86043436\n",
      " 5.61847641 5.28002796 4.89001683 6.3841498  4.85796373 5.26862975\n",
      " 4.93466607 5.37154752 5.52469305 5.54740751 5.13524438 5.00942426\n",
      " 5.19400465 5.58175444 5.33169529 6.94629623 5.30956921 5.67074171\n",
      " 5.23169999 4.70835502 5.35096879 4.85741508 5.61909781 6.49560281\n",
      " 5.76362859 5.7309581  5.6476637  6.20562146 5.94168091 5.7778776\n",
      " 6.35213626 5.18566797 6.6050669  6.11609544 5.34417171 6.83728142\n",
      " 5.7309581  6.36045125 5.85909584 5.24804327 5.60905022 5.33834539\n",
      " 6.25954875 5.88392759 5.71894436 5.39716013 6.23908465 5.40618057\n",
      " 5.16543645 5.6597539  5.59735239 5.23881839 5.17813302 5.27514778\n",
      " 5.67369813 5.08848069 5.40221184 5.73601803 6.15221215 5.79950544\n",
      " 5.322321   5.06011874 5.68111591 5.39453773 5.92755077 5.88069824\n",
      " 5.46681932 5.45408363 5.01096867 6.58020217 6.05783816 6.24157337\n",
      " 5.18651578 6.39305835 5.39453773 5.80532181 6.18956927 6.00064892\n",
      " 5.32222253 5.19298425 6.62443243 5.61141185 5.37509333 5.60852892\n",
      " 6.60436536 5.17219444 5.51331057 6.13990398 4.92194695 6.02858959\n",
      " 5.90922462 5.44456029 5.4052629  5.37044585 5.0900051  5.42931721\n",
      " 5.32427792 6.35093655 5.6597539  5.53256926 5.48182374 5.1605426\n",
      " 5.41849293 6.55922755 5.66589871 6.08654358 5.54542519 5.91584945\n",
      " 6.68002274 4.81837792 6.0584535  6.15390132 5.66152624 6.13372115\n",
      " 5.09914283 6.3841498  5.35311031 6.06859002 5.73267221 5.24829525\n",
      " 5.56402085 6.41181349 5.09034372 5.41395447 5.68434526 5.60502772\n",
      " 5.43942238 6.01536349 5.35063984 5.34517677 5.9944821  6.22317657\n",
      " 5.59622047 5.78260153 6.17409875 5.86921527 4.9722801  5.46305953\n",
      " 5.62910781 5.53443064 6.16099278 5.61916197 6.01893858 5.67439798\n",
      " 6.57406171 5.52655565 5.17870774 6.31517061 5.46207327 5.91819144\n",
      " 5.52654974 5.92755077 5.83549293 5.45981326 5.29136896 5.45981326\n",
      " 5.28431358 5.28142392 5.78355057 5.29493236 5.88739781 6.04744079\n",
      " 5.28204538 5.68475441 5.47310949 5.1637112  4.94480159 5.89069886\n",
      " 5.39347816 5.3158914  6.14795603 5.19126035 5.38400201 6.00032819\n",
      " 6.14436018 5.77216274 6.39807303 5.88744554 5.36709706 5.59288883\n",
      " 5.7121293  6.22807572 5.41829428 5.28002796 5.49741867 6.01893858\n",
      " 5.25924569 6.21274172 5.81236766 6.52765079 5.71900958 6.42475544\n",
      " 5.58055456 5.36945193 5.69242118 5.23017413 6.15250585 5.09651636\n",
      " 5.89991247 5.56862177 5.44456029 6.93273014 5.72909464 5.52645314\n",
      " 6.03294382 5.19126203 6.04724851 6.57219313 6.20559051 5.23546753\n",
      " 5.67018375 5.32307524 6.23908465 5.54893445 5.06314213 6.67826043\n",
      " 5.32826797 4.99878281 5.1206675  5.04338722 6.0402032  5.10418591\n",
      " 5.47377929 5.2592402  5.60143071 5.51884549 5.314501   5.4464664\n",
      " 5.88392759 5.44444157 4.97503584 5.16493404 5.53443064 5.32307524]\n"
     ]
    }
   ],
   "source": [
    "test_pred = lr.predict(X_test)\n",
    "print(test_pred)"
   ]
  },
  {
   "cell_type": "code",
   "execution_count": 49,
   "metadata": {},
   "outputs": [
    {
     "name": "stdout",
     "output_type": "stream",
     "text": [
      "0.6549840223740327\n"
     ]
    }
   ],
   "source": [
    "rmse_train = metrics.mean_squared_error(train_pred, y_train) ** 0.5\n",
    "print(rmse_train)"
   ]
  },
  {
   "cell_type": "code",
   "execution_count": 50,
   "metadata": {},
   "outputs": [
    {
     "name": "stdout",
     "output_type": "stream",
     "text": [
      "0.6352739135998484\n"
     ]
    }
   ],
   "source": [
    "rmse_test = metrics.mean_squared_error(test_pred, y_test) ** 0.5\n",
    "print(rmse_test)"
   ]
  },
  {
   "cell_type": "code",
   "execution_count": 51,
   "metadata": {},
   "outputs": [
    {
     "name": "stdout",
     "output_type": "stream",
     "text": [
      "[6. 5. 7. 5. 6. 5. 5. 6. 5. 5. 5. 5. 6. 5. 6. 6. 7. 6. 6. 5. 6. 5. 6. 6.\n",
      " 6. 5. 5. 6. 5. 6. 6. 6. 6. 5. 6. 6. 5. 6. 6. 6. 5. 6. 7. 7. 6. 5. 5. 6.\n",
      " 6. 6. 5. 5. 6. 6. 6. 5. 5. 5. 7. 5. 5. 6. 6. 6. 5. 6. 5. 6. 6. 6. 5. 5.\n",
      " 5. 6. 6. 6. 5. 5. 6. 6. 6. 5. 6. 6. 5. 5. 6. 5. 5. 5. 5. 5. 6. 5. 6. 5.\n",
      " 6. 5. 5. 6. 7. 6. 6. 6. 6. 5. 6. 5. 6. 5. 6. 5. 6. 5. 6. 6. 6. 6. 6. 6.\n",
      " 5. 6. 5. 5. 6. 6. 5. 6. 6. 6. 5. 5. 6. 6. 6. 5. 6. 5. 6. 5. 6. 5. 5. 5.\n",
      " 6. 6. 6. 6. 6. 5. 6. 6. 5. 6. 6. 5. 5. 5. 6. 6. 6. 6. 6. 5. 6. 5. 6. 7.\n",
      " 5. 6. 6. 6. 5. 7. 6. 6. 6. 7. 6. 5. 5. 7. 5. 6. 7. 5. 6. 6. 5. 6. 6. 6.\n",
      " 5. 6. 5. 5. 5. 5. 5. 5. 5. 6. 5. 5. 5. 5. 5. 6. 6. 5. 6. 6. 5. 6. 5. 5.\n",
      " 6. 6. 6. 5. 5. 6. 6. 6. 5. 6. 6. 6. 5. 5. 5. 6. 5. 6. 6. 6. 6. 7. 7. 6.\n",
      " 5. 5. 5. 5. 6. 5. 6. 5. 5. 6. 5. 5. 5. 5. 6. 6. 5. 5. 5. 6. 5. 7. 5. 6.\n",
      " 5. 5. 5. 5. 6. 6. 6. 6. 6. 6. 6. 6. 6. 5. 7. 6. 5. 7. 6. 6. 6. 5. 6. 5.\n",
      " 6. 6. 6. 5. 6. 5. 5. 6. 6. 5. 5. 5. 6. 5. 5. 6. 6. 6. 5. 5. 6. 5. 6. 6.\n",
      " 5. 5. 5. 7. 6. 6. 5. 6. 5. 6. 6. 6. 5. 5. 7. 6. 5. 6. 7. 5. 6. 6. 5. 6.\n",
      " 6. 5. 5. 5. 5. 5. 5. 6. 6. 6. 5. 5. 5. 7. 6. 6. 6. 6. 7. 5. 6. 6. 6. 6.\n",
      " 5. 6. 5. 6. 6. 5. 6. 6. 5. 5. 6. 6. 5. 6. 5. 5. 6. 6. 6. 6. 6. 6. 5. 5.\n",
      " 6. 6. 6. 6. 6. 6. 7. 6. 5. 6. 5. 6. 6. 6. 6. 5. 5. 5. 5. 5. 6. 5. 6. 6.\n",
      " 5. 6. 5. 5. 5. 6. 5. 5. 6. 5. 5. 6. 6. 6. 6. 6. 5. 6. 6. 6. 5. 5. 5. 6.\n",
      " 5. 6. 6. 7. 6. 6. 6. 5. 6. 5. 6. 5. 6. 6. 5. 7. 6. 6. 6. 5. 6. 7. 6. 5.\n",
      " 6. 5. 6. 6. 5. 7. 5. 5. 5. 5. 6. 5. 5. 5. 6. 6. 5. 5. 6. 5. 5. 5. 6. 5.]\n"
     ]
    }
   ],
   "source": [
    "predicted_data = np.round_(test_pred)\n",
    "print(predicted_data)"
   ]
  },
  {
   "cell_type": "code",
   "execution_count": 52,
   "metadata": {},
   "outputs": [
    {
     "name": "stdout",
     "output_type": "stream",
     "text": [
      "Mean Absolute Error: 0.4923664687885067\n",
      "Mean Squared Error: 0.4035729453004677\n",
      "Root Mean Squared Error: 0.6352739135998484\n"
     ]
    }
   ],
   "source": [
    "print('Mean Absolute Error:', metrics.mean_absolute_error(test_pred, y_test))\n",
    "print('Mean Squared Error:', metrics.mean_squared_error(test_pred, y_test))\n",
    "print('Root Mean Squared Error:', np.sqrt(metrics.mean_squared_error(test_pred, y_test)))"
   ]
  },
  {
   "cell_type": "code",
   "execution_count": 53,
   "metadata": {},
   "outputs": [
    {
     "name": "stdout",
     "output_type": "stream",
     "text": [
      "                      Coefficient\n",
      "fixed acidity            0.045410\n",
      "volatile acidity        -1.249892\n",
      "citric acid             -0.083936\n",
      "chlorides               -1.627068\n",
      "total sulfur dioxide    -0.002105\n",
      "density                -19.233227\n",
      "sulphates                0.848272\n",
      "alcohol                  0.261574\n"
     ]
    }
   ],
   "source": [
    "coefficients = pd.DataFrame(lr.coef_, features) \n",
    "coefficients.columns = ['Coefficient']\n",
    "print(coefficients)"
   ]
  },
  {
   "cell_type": "markdown",
   "metadata": {},
   "source": [
    "Los coeficientes anteriores denotan el impacto de cada variable en la Calidad del Vino. Por cada aumento de la medida de alcohol aumentará un 0,26 en la calidad. El aumento de cloruros disminuirá la calidad del vino."
   ]
  },
  {
   "cell_type": "code",
   "execution_count": null,
   "metadata": {},
   "outputs": [],
   "source": []
  },
  {
   "cell_type": "code",
   "execution_count": null,
   "metadata": {},
   "outputs": [],
   "source": []
  }
 ],
 "metadata": {
  "colab": {
   "name": "M2.855_20191_PEC1-Solucion.ipynb",
   "provenance": []
  },
  "kernelspec": {
   "display_name": "Python 3",
   "language": "python",
   "name": "python3"
  },
  "language_info": {
   "codemirror_mode": {
    "name": "ipython",
    "version": 3
   },
   "file_extension": ".py",
   "mimetype": "text/x-python",
   "name": "python",
   "nbconvert_exporter": "python",
   "pygments_lexer": "ipython3",
   "version": "3.8.10"
  },
  "toc": {
   "base_numbering": 1,
   "nav_menu": {},
   "number_sections": true,
   "sideBar": true,
   "skip_h1_title": false,
   "title_cell": "Table of Contents",
   "title_sidebar": "Contents",
   "toc_cell": false,
   "toc_position": {},
   "toc_section_display": true,
   "toc_window_display": false
  }
 },
 "nbformat": 4,
 "nbformat_minor": 1
}
